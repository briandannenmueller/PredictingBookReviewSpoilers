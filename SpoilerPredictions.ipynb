{
 "cells": [
  {
   "cell_type": "markdown",
   "metadata": {},
   "source": [
    "# Predicting Book Review Spoilers by Brian Dannenmueller\n",
    "\n",
    "\n",
    "## Goal: \n",
    "\n",
    "Predict whether review contains a spoiler for the book's plot.\n",
    "\n",
    "\n",
    "## Data Preparation:\n",
    "\n",
    "Our dataset comes from the academic paper \"Fine-Grained Spoiler Detection from Large-Scale Review Corpora\". More than 15 million records book reviews were scraped off the internet for the original study. Notably, some pre-processing has already been done -- there is no HTML markup or null values, for example. \n",
    "    \n",
    "The data consists of three attributes: \n",
    "\n",
    "1. review_sentences, which is one long string consisting of the entire review. \n",
    "\n",
    "2. rating, which is the number of \"stars\" received by the book, from zero to five.\n",
    "\n",
    "3. has_spoiler, which is a boolean. indicating if the review has a spoiler. \n",
    "\n",
    "The data comes in several different sizes containing 1000 (1.1 MB), 5000 (6.2MB), 10000 (10.8MB), 20000 (19.5MB), and 50000(49.7MB) reviews. We will be working with the smallest and the largest of these. \n",
    "\n",
    "## Model Planning and Execution:\n",
    "\n",
    "We are utilizing Naive Bayes (NB), which is considered one of the best machine learning algorithms for text classification. We are also using Support Vector Machines (SVM), which is less efficient on its own, but integration of Principal Component Analysis (PCA) could speed it up to outperform Naive Bayes, allowing us to test both algorithms on the largest data set. \n",
    "\n",
    "\n",
    "## Process: \n",
    "\n",
    "1. Read in and examined the data to determine what cleaning still needs to be done. There wasn't much to do besides run the starter code for the clean_review function.\n",
    "\n",
    "2. Pre-processed the small data set to make it readily available to machine learning algorithms. \n",
    "\n",
    "3. Measured baseline performance for predictions using vanilla implementations of Naive Bayes (NB), Support Vector Machine (SVM), and Principal Component Analysis (PCA).\n",
    "\n",
    "4. Experimented with parameters for Naive Bayes, SVC, and PCA to optimize both accuracy and speed. \n",
    "\n",
    "5. Implemented these optimized parameters to classify the largest data set with 50,000 reviews.\n",
    "\n",
    "\n",
    "## Metrics:\n",
    "\n",
    "We are measuring our machine learning algorithm performance using two metrics: runtime and accuracy. \n",
    "Lowering the runtime with PCA without sacrificing accuracy is ideal because we will be trying to scale up to the largest possible data set. The accuracy score is simply the percentage of classifications correctly made by the algorithms. The runtime is measured in seconds.\n",
    "\n",
    "\n",
    "## Baseline Performance:\n",
    "\n",
    "We started out with the smallest file size -- 1000 reviews. \n",
    "SVM was the most accurate algorithm at baseline, correctly identifying spoiler reviews 91.5% of the time. \n",
    "Baseline accuracy score for Naive Bayes was also very good -- 90.5%! It also had the fastest speed -- 0.033s versus 1.415s for SVM. \n",
    "\n",
    "Naive Bayes does not work with PCA, so I used with for SVM only, boiling down the 5000 dimension analysis into only 100 dimensions. There was zero loss to accuracy, which was still 91.5% but a massive upgrade to speed, taking only only 0.054s for the runtime. \n",
    "\n",
    "\n",
    "## Results:\n",
    "\n",
    "Naive Bayes: \n",
    "On the small data set, adjusting the alpha value (smoothing function) to 10 on the Naive Bayes improved accuracy to 91.5% without sacrificing speed, which remained about the same. \n",
    "\n",
    "On the large data set, I used the adjusted alpha value and were able to achieve 90% accuracy in 1.3s. NB is incredibly fast for this application. \n",
    "\n",
    "SVM: \n",
    "For the small data set, adjusting the C value downward (increasing regularization) had no effect on accuracy, but greatly enhanced speed. Without PCA, the runtime was cut in half to about 0.688s. Adjusting PCA to n = 10 again had no effect on accuracy, but the algorithm become much faster than even the NB algorithm, with a runtime of 0.005s.\n",
    "\n",
    "On the large data set, I attempted to run SVM without PCA, but after several minutes of waiting, gave up. I then ran it with the the optimized C = 0.01 and PCA n = 10 and was able to achieve 93.6% accuracy in about 39s. Clearly, this algorithm is significantly slower at this task than NB and could not be run without PCA, but it does achieve better accuracy. \n",
    "\n",
    "\n",
    "\n",
    "## Recommendation:\n",
    "\n",
    "Naive Bayes appears to be ideal for quick and somewhat dirty text classification. It scales extremely well with an excellent runtime and solid accuracy. If accuracy is more important, optimized SVC significantly outperforms NB, sacrificing speed in the process, and with even larger datasets than that which we used, it may not even be feasible without dedicating enormous resources. This drawback is effectively offset by using PCA in conjunction with SVC, making the runtime still slower but reasonable. \n",
    "\n",
    "\n",
    "## Insights:\n",
    "\n",
    "The use of the English language follows the Pareto Principle -- roughly speaking, 20% of words consist of 80% of actual usage. It seems that clearing out obvious structural words like \"the\", \"is\", and \"and\" does not affect this principle -- based on our results, it seems to generalize well to more colorful verbs, adjectives, and nouns. I can say this because our PCA could reduce our dimensionality by more than 2 orders of magnitude without sacrificing accuracy. This suggests that there are a small number of words that are strongly correlated with spoilers. \n",
    "\n",
    "Attempting classification with a decision tree could give us more insight into the reason why we are able to consistly achieve high accuracy and simplify the model so much, however. SVC and Naive Bayes do not appear to be as transparent, but even if decision trees perform less well, they could help provide some mental scaffolding for interpreting the results with other algorithms. \n",
    "\n",
    "It might be possible to optimize NB to match the accuracy of SVM, though we do not see evidence of that in this experiment. Future experiments could involve further experimentation of Naive Bayes parameters or find a way to implement PCA with Naive Bayes -- if it is possible. \n",
    "\n",
    "\n"
   ]
  },
  {
   "cell_type": "markdown",
   "metadata": {},
   "source": [
    "# Part I: Viewing the Data"
   ]
  },
  {
   "cell_type": "code",
   "execution_count": 1,
   "metadata": {},
   "outputs": [
    {
     "name": "stdout",
     "output_type": "stream",
     "text": [
      " This is a special book.  It started slow for about the first third then in the middle third it started to get interesting then the last third blew my mind.  This is what I love about good science fiction  it pushes your thinking about where things can go.  It is a  Hugo winner and translated from its original Chinese which made it interesting in just a different way from most things Ive read.  For instance the intermixing of Chinese revolutionary history  how they kept accusing people of being reactionaries etc.  It is a book about science and aliens.  The science described in the book is impressive  its a book grounded in physics and pretty accurate as far as I could tell.  Though when it got to folding protons into  dimensions I think he was just making stuff up  interesting to think about though.  But what would happen if our SETI stations received a message  if we found someone was out there  and the person monitoring and answering the signal on our side was disillusioned?  That part of the book was a bit dark  I would like to think human reaction to discovering alien civilization that is hostile would be more like Enders Game where we would band together.  I did like how the book unveiled the Trisolaran culture through the game.  It was a smart way to build empathy with them and also understand what theyve gone through across so many centuries.  And who know a  body problem was an unsolvable math problem?  But I still dont get who made the game  maybe that will come in the next book.  I loved this quote:  In the long history of scientific progress how many protons have been smashed apart in accelerators by physicists?  How many neutrons and electrons?  Probably no fewer than a hundred million.  Every collision was probably the end of the civilizations and intelligences in a microcosmos.  In fact even in nature the destruction of universes must be happening at every secondfor example through the decay of neutrons.  Also a highenergy cosmic ray entering the atmosphere may destroy thousands of such miniature universes....\n"
     ]
    }
   ],
   "source": [
    "import pandas\n",
    "\n",
    "data = pandas.read_csv(\"goodreads_reviews1000.csv\") \n",
    "\n",
    "#Here we take a look at an unmodified review.\n",
    "print(data[\"review_sentences\"][0])"
   ]
  },
  {
   "cell_type": "code",
   "execution_count": 2,
   "metadata": {},
   "outputs": [
    {
     "name": "stdout",
     "output_type": "stream",
     "text": [
      "0      5\n",
      "1      3\n",
      "2      3\n",
      "3      0\n",
      "4      4\n",
      "      ..\n",
      "995    2\n",
      "996    4\n",
      "997    3\n",
      "998    5\n",
      "999    3\n",
      "Name: rating, Length: 1000, dtype: int64\n"
     ]
    }
   ],
   "source": [
    "#Here is our integer vector (0-5) of the ratings attribute\n",
    "\n",
    "print(data[\"rating\"])"
   ]
  },
  {
   "cell_type": "code",
   "execution_count": 3,
   "metadata": {},
   "outputs": [
    {
     "name": "stdout",
     "output_type": "stream",
     "text": [
      "0       True\n",
      "1      False\n",
      "2       True\n",
      "3      False\n",
      "4       True\n",
      "       ...  \n",
      "995    False\n",
      "996    False\n",
      "997    False\n",
      "998    False\n",
      "999    False\n",
      "Name: has_spoiler, Length: 1000, dtype: bool\n"
     ]
    }
   ],
   "source": [
    "#Here is our boolean vector indicating which reviews have spoilers\n",
    "\n",
    "print(data[\"has_spoiler\"])"
   ]
  },
  {
   "cell_type": "markdown",
   "metadata": {},
   "source": [
    "# Part II: Pre-Processing the Data\n",
    "\n",
    "In this section, we define a function clean_review that takes in one a review, removes punctuation, converts everything to lowercase, and removes common filler words as defined in the nltk stopwords collection. "
   ]
  },
  {
   "cell_type": "code",
   "execution_count": 4,
   "metadata": {},
   "outputs": [],
   "source": [
    "import re\n",
    "from sklearn.model_selection import train_test_split\n",
    "from nltk.corpus import stopwords\n",
    "from sklearn.feature_extraction.text import CountVectorizer \n",
    "from sklearn.svm import SVC\n",
    "from sklearn import decomposition\n",
    "from sklearn.naive_bayes import MultinomialNB\n",
    "from sklearn.metrics import accuracy_score\n",
    "from time import time\n",
    "\n",
    "def clean_review(review):\n",
    "    #input is a string review\n",
    "    #return is review cleaned of all punctuation, lowercase, and removed nltk stopwords\n",
    "    letters_only = re.sub(\"[^a-zA-Z]\",\" \",review)\n",
    "    lower_case = letters_only.lower()\n",
    "    words = lower_case.split()\n",
    "    for stop_word in stopwords.words(\"english\"):\n",
    "        while stop_word in words:\n",
    "            words.remove(stop_word)\n",
    "    cleaned = \" \".join(words)\n",
    "    return cleaned\n",
    "\n",
    "data[\"has_spoiler\"] = data['has_spoiler'].replace(to_replace=True, value=1)\n",
    "data[\"has_spoiler\"] = data['has_spoiler'].replace(to_replace=False, value=0)\n",
    "\n",
    "#process the data\n",
    "cleaned_text = []\n",
    "for i in range(len(data)):\n",
    "    cleaned_text.append(clean_review(data[\"review_sentences\"][i]))  \n",
    "\n",
    "#establish training and testing dataset\n",
    "# note that data['rating'] OR data['has_spoiler']\n",
    "train_data, test_data, train_sln, test_sln = \\\n",
    "    train_test_split(cleaned_text, data['has_spoiler'], test_size = 0.2, random_state=0)\n"
   ]
  },
  {
   "cell_type": "code",
   "execution_count": 5,
   "metadata": {},
   "outputs": [
    {
     "name": "stdout",
     "output_type": "stream",
     "text": [
      "['aaric', 'abandoned', 'abbi', 'abby', 'abbys', 'abel', 'abigail', 'ability', 'able', 'abrupt', 'abruptly', 'abs', 'absolute', 'absolutely', 'absorbed', 'abstract', 'abuse', 'abusive', 'academy', 'accept', 'acceptance', 'accepted', 'accepting', 'accepts', 'access', 'accident', 'acclaim', 'acclimated', 'according', 'account', 'accounts', 'accurate', 'accurately', 'ace', 'ached', 'aches', 'across', 'act', 'acted', 'acting', 'action', 'actionfilled', 'actionpacked', 'actions', 'activities', 'actor', 'actors', 'actress', 'acts', 'actual', 'actually', 'acutely', 'adam', 'adams', 'add', 'added', 'addicted', 'addicting', 'addiction', 'addictive', 'adding', 'addison', 'addisons', 'addition', 'additional', 'adds', 'adequately', 'admirable', 'admire', 'admit', 'admittedly', 'adorable', 'adore', 'adored', 'adores', 'adrian', 'adroitly', 'adult', 'adulthood', 'adults', 'advance', 'advantage', 'advantages', 'adventure', 'adventures', 'advice', 'aesa', 'afar', 'affair', 'affect', 'affected', 'affects', 'affliction', 'afghanistan', 'afraid', 'age', 'agent', 'ages', 'aggressive', 'aging', 'ago', 'agony', 'agree', 'agrees', 'ah', 'ahead', 'ahhh', 'ai', 'aimee', 'air', 'airport', 'aka', 'alaric', 'alas', 'alayna', 'alcoholic', 'aleatha', 'alert', 'alessandra', 'alex', 'alexa', 'alexander', 'alexs', 'alice', 'alienated', 'aliens', 'alif', 'alik', 'alive', 'allaround', 'allie', 'allowed', 'allows', 'allpowerful', 'alltime', 'allure', 'alluring', 'allusions', 'ally', 'almost', 'almostperfect', 'alone', 'along', 'alongside', 'alpha', 'alphamale', 'alphas', 'already', 'alright', 'also', 'altar', 'alter', 'alternate', 'alternately', 'alternates', 'alternating', 'alternative', 'although', 'always', 'amanda', 'amaze', 'amazing', 'amazingly', 'ambassador', 'amber', 'ambiguity', 'ambition', 'ambitious', 'ambrose', 'ambrosia', 'amelia', 'amelias', 'amends', 'america', 'american', 'among', 'amount', 'amy', 'ancient', 'andie', 'andrew', 'angel', 'angels', 'anger', 'angle', 'angry', 'angst', 'angsty', 'animals', 'ann', 'anna', 'annabeth', 'annie', 'announced', 'annoyed', 'annoying', 'another', 'ansel', 'answer', 'answered', 'answers', 'anthony', 'anticipated', 'anticipation', 'antonio', 'anxiety', 'anxious', 'anxiously', 'anymore', 'anyone', 'anything', 'anyway', 'anyways', 'anywhere', 'apart', 'apartment', 'apocalyptic', 'apologies', 'apparent', 'apparently', 'appealed', 'appearance', 'appearances', 'appeared', 'appears', 'applaud', 'apple', 'appreciate', 'appreciated', 'approach', 'appropriate', 'april', 'arc', 'architect', 'area', 'arent', 'argue', 'arguments', 'arms', 'around', 'arouse', 'arranged', 'arrangement', 'arrives', 'arsen', 'art', 'arthur', 'article', 'artist', 'artists', 'asap', 'ash', 'asher', 'ashers', 'ashley', 'ashleys', 'asia', 'asian', 'aside', 'ask', 'asked', 'asking', 'asks', 'asleep', 'aspect', 'ass', 'assault', 'assets', 'asshole', 'assignment', 'assistant', 'assume', 'assumes', 'astute', 'athlete', 'athletes', 'athletic', 'atmosphere', 'atria', 'attached', 'attack', 'attacker', 'attempt', 'attend', 'attended', 'attending', 'attends', 'attention', 'attitude', 'attitudes', 'attorney', 'attracted', 'attraction', 'attractive', 'aubree', 'aubrey', 'aubreys', 'audience', 'audio', 'audiobook', 'audrey', 'august', 'aunt', 'aunts', 'austin', 'australia', 'australian', 'authentic', 'author', 'authors', 'autobuy', 'ava', 'available', 'avas', 'avenger', 'average', 'avery', 'averys', 'avoid', 'avoiding', 'awaiting', 'awake', 'awakening', 'aware', 'away', 'awe', 'awesome', 'awful', 'awkward', 'axel', 'aycart', 'babe', 'baby', 'back', 'backandforth', 'backbone', 'backdrop', 'background', 'backing', 'backstory', 'bad', 'badass', 'badboy', 'badly', 'bag', 'bailey', 'bakery', 'balance', 'balanced', 'balances', 'ball', 'balled', 'baller', 'bam', 'bamf', 'band', 'bang', 'banks', 'banter', 'bar', 'barbecue', 'bare', 'bared', 'barely', 'bargained', 'barriers', 'bartender', 'baseball', 'based', 'basic', 'basically', 'basis', 'bastard', 'bathroom', 'batman', 'battle', 'battles', 'battling', 'bay', 'bdsm', 'beach', 'bear', 'beard', 'bearded', 'beast', 'beat', 'beaten', 'beautiful', 'beautifully', 'beautifullywritten', 'beauty', 'became', 'becca', 'beck', 'beckett', 'becks', 'become', 'becomes', 'becoming', 'bed', 'bedroom', 'beer', 'befriends', 'beg', 'began', 'begging', 'begin', 'beginning', 'beginnings', 'begins', 'begun', 'behavior', 'behaviors', 'behind', 'behindthescenes', 'behold', 'beings', 'belen', 'belief', 'believable', 'believe', 'believed', 'believes', 'believing', 'bell', 'bella', 'bellas', 'belong', 'belongs', 'beloved', 'ben', 'bend', 'beneath', 'benign', 'bennett', 'bennetts', 'bens', 'bent', 'bernadette', 'besides', 'best', 'bet', 'beth', 'betrayal', 'betrayed', 'bets', 'better', 'beware', 'beyond', 'bhe', 'bianca', 'biancas', 'biceps', 'bid', 'bidding', 'big', 'bigger', 'biggest', 'bike', 'biker', 'bikers', 'bill', 'billionaire', 'billionaires', 'billions', 'bit', 'bitch', 'bite', 'bits', 'bitter', 'bittersweet', 'black', 'blackstone', 'blah', 'blair', 'blaire', 'blake', 'blame', 'blames', 'blend', 'blew', 'blind', 'blink', 'bliss', 'blog', 'blood', 'blow', 'blown', 'blue', 'blunt', 'blurb', 'blurred', 'boat', 'bodies', 'body', 'bodys', 'bold', 'bond', 'bonds', 'boner', 'bones', 'book', 'books', 'borderline', 'bored', 'boring', 'born', 'boss', 'bossman', 'bossy', 'boston', 'bother', 'bothered', 'bottom', 'bought', 'bound', 'boundaries', 'bowen', 'bowens', 'box', 'boy', 'boyfriend', 'boyfriends', 'boys', 'brad', 'brady', 'brains', 'bram', 'brand', 'branded', 'brave', 'bravery', 'bravo', 'bray', 'brays', 'brazilian', 'break', 'breakfast', 'breaking', 'breaks', 'breakup', 'breath', 'breathe', 'breathing', 'breathless', 'breathtaking', 'breezy', 'brent', 'brett', 'brian', 'bride', 'bridget', 'bridgette', 'brie', 'brief', 'briefly', 'bright', 'brigs', 'brilliant', 'brilliantly', 'bring', 'bringing', 'brings', 'brink', 'brisk', 'british', 'brody', 'brogan', 'broke', 'broken', 'bromberg', 'brombergs', 'bronte', 'brooke', 'brookes', 'brooklyn', 'brother', 'brotherhood', 'brothers', 'brought', 'brown', 'bruisers', 'brutal', 'brutally', 'brute', 'bryn', 'brynne', 'bubble', 'buddhism', 'bugged', 'build', 'building', 'builds', 'buildup', 'built', 'bullied', 'bully', 'bullying', 'bunch', 'burden', 'burg', 'buried', 'burn', 'burned', 'burning', 'burns', 'burst', 'business', 'businessman', 'busy', 'butterfly', 'buttons', 'buy', 'buying', 'buys', 'cade', 'caden', 'cage', 'cain', 'cal', 'calamity', 'calculating', 'calder', 'caleb', 'cali', 'california', 'calis', 'call', 'callan', 'called', 'callihan', 'calling', 'calls', 'callum', 'calm', 'cam', 'camden', 'came', 'cameo', 'cameos', 'camera', 'cameras', 'cami', 'camille', 'campaign', 'campus', 'canadian', 'canning', 'cannot', 'cant', 'canvas', 'capable', 'capacity', 'capitol', 'captain', 'captivated', 'captivating', 'captive', 'captor', 'capture', 'captured', 'captures', 'car', 'caravan', 'card', 'cardeno', 'cards', 'care', 'cared', 'career', 'careful', 'carefully', 'cares', 'caring', 'carlino', 'carlinos', 'carmine', 'carnal', 'carnival', 'carolina', 'caroline', 'carolines', 'carrie', 'carry', 'cartel', 'carter', 'case', 'cases', 'casey', 'cassie', 'cassies', 'cast', 'castle', 'casual', 'cat', 'catalog', 'cataloguing', 'catch', 'catches', 'catching', 'catchy', 'category', 'cates', 'cathedral', 'cathy', 'caught', 'cause', 'caused', 'causing', 'cave', 'cavendish', 'cd', 'celaena', 'celeana', 'celebration', 'celebrity', 'cell', 'center', 'central', 'certain', 'certainly', 'challenge', 'challenged', 'challenges', 'challenging', 'chance', 'chances', 'change', 'changed', 'changes', 'changing', 'chaol', 'chaos', 'chapter', 'chapters', 'character', 'characterization', 'characters', 'charity', 'charlie', 'charlotte', 'charm', 'charming', 'charts', 'chase', 'chases', 'chasing', 'cheap', 'cheating', 'check', 'checked', 'cheeks', 'cheering', 'cheesy', 'chelles', 'chemistry', 'cherish', 'chest', 'chicago', 'chick', 'chicklit', 'child', 'childhood', 'children', 'childrens', 'chills', 'china', 'chinese', 'chloe', 'choice', 'choices', 'choose', 'chooses', 'chosen', 'chris', 'christ', 'christina', 'christy', 'chronological', 'chuckle', 'church', 'circle', 'circuit', 'circumstance', 'circumstances', 'city', 'civil', 'civilization', 'claim', 'claims', 'claire', 'clary', 'class', 'classic', 'clayton', 'clean', 'clear', 'clearly', 'clever', 'cliche', 'cliff', 'cliffhanger', 'climate', 'climax', 'close', 'closed', 'closer', 'closest', 'closeted', 'closure', 'clothing', 'club', 'clue', 'clues', 'coach', 'coaching', 'coaster', 'cocky', 'code', 'cohen', 'cold', 'cole', 'collapse', 'collection', 'colleen', 'college', 'collins', 'color', 'colorful', 'colors', 'colt', 'colton', 'com', 'combination', 'come', 'comedy', 'comes', 'comfort', 'comfortable', 'coming', 'comingofage', 'comment', 'commentary', 'comments', 'committed', 'common', 'commoner', 'communicate', 'communicating', 'community', 'companion', 'company', 'compared', 'compassion', 'compelling', 'competing', 'competition', 'competitive', 'competitor', 'complaint', 'complete', 'completely', 'complex', 'complicated', 'computer', 'concept', 'conclusion', 'conditioning', 'conditions', 'confession', 'confidence', 'confident', 'conflict', 'conflicted', 'conflicts', 'confront', 'confused', 'confusing', 'confusion', 'connect', 'connected', 'connection', 'consciousness', 'consequences', 'consider', 'considering', 'constant', 'constantly', 'consumed', 'contact', 'contain', 'contained', 'contains', 'contemporary', 'content', 'contest', 'context', 'continuation', 'continue', 'continued', 'continues', 'contrast', 'contrived', 'control', 'controlling', 'convenient', 'convention', 'conversation', 'conversations', 'convince', 'convinced', 'convincing', 'cook', 'cookiecutter', 'cool', 'cooper', 'cop', 'copy', 'copyright', 'core', 'cormac', 'corner', 'corporate', 'corps', 'correct', 'corrupt', 'cosway', 'cough', 'could', 'couldnt', 'count', 'counting', 'country', 'couple', 'couples', 'courage', 'course', 'courtesy', 'cousin', 'cousins', 'cover', 'covered', 'covering', 'covers', 'cowboy', 'crack', 'cracked', 'cracks', 'crafted', 'crap', 'crash', 'crashed', 'crave', 'craved', 'craving', 'crawl', 'crazy', 'create', 'created', 'creates', 'creating', 'creative', 'creativity', 'credit', 'creed', 'creepy', 'cried', 'crime', 'criminal', 'crisp', 'cross', 'crossed', 'crucial', 'cruel', 'cruelty', 'crush', 'crushing', 'cruz', 'cry', 'crying', 'cryptography', 'crystal', 'crystals', 'cue', 'culture', 'cup', 'cure', 'curious', 'current', 'currently', 'curse', 'cut', 'cute', 'cuter', 'cynical', 'dad', 'dads', 'daenerys', 'dahlia', 'daily', 'daisy', 'dakota', 'dallas', 'dalton', 'dam', 'damaged', 'damn', 'damon', 'dance', 'danger', 'dangerfield', 'dangerous', 'dangerously', 'dani', 'daniel', 'daniels', 'danika', 'dante', 'dare', 'darhower', 'dark', 'darker', 'darkest', 'darkness', 'dash', 'dashs', 'data', 'date', 'dating', 'daughter', 'daughters', 'david', 'dawn', 'dawson', 'day', 'days', 'de', 'dead', 'deal', 'dealer', 'dealing', 'deals', 'dealt', 'dean', 'deanna', 'dear', 'death', 'deaths', 'debt', 'debut', 'decades', 'decent', 'deception', 'decide', 'decided', 'decides', 'deciding', 'decision', 'decisions', 'deck', 'deep', 'deeper', 'deeply', 'define', 'defined', 'definitely', 'defintely', 'degree', 'deke', 'delicate', 'delicious', 'deliciously', 'delight', 'delightfully', 'deliver', 'delivered', 'delivers', 'demanding', 'demons', 'denial', 'denied', 'deny', 'department', 'depressed', 'depressing', 'depression', 'depth', 'describe', 'described', 'describes', 'describing', 'description', 'descriptions', 'descriptive', 'deserve', 'deserved', 'deserves', 'design', 'designed', 'designer', 'desire', 'desires', 'desperate', 'desperately', 'despite', 'dessen', 'destroy', 'destroyed', 'detail', 'detailed', 'details', 'detective', 'determination', 'determined', 'devastated', 'develop', 'developed', 'developing', 'development', 'develops', 'devil', 'devils', 'devoted', 'devotion', 'devour', 'devoured', 'dex', 'dialogue', 'diana', 'dick', 'didnt', 'die', 'died', 'diehard', 'difference', 'different', 'difficult', 'difficulties', 'difficulty', 'digest', 'dignity', 'dillon', 'dimension', 'dinner', 'dire', 'direction', 'dirk', 'dirty', 'dirtytalking', 'disappeared', 'disappoint', 'disappointed', 'disappointing', 'disaster', 'disastrous', 'disclaimer', 'discover', 'discovers', 'discuss', 'discussion', 'discussions', 'disease', 'dislike', 'disliked', 'disorder', 'disorientation', 'disorienting', 'distance', 'distant', 'distraught', 'disturb', 'dive', 'divorce', 'dnf', 'doctor', 'doesnt', 'dog', 'dom', 'domestic', 'dominant', 'dominating', 'donald', 'done', 'donovan', 'dont', 'door', 'dorian', 'dose', 'double', 'doubt', 'douglas', 'downright', 'downtoearth', 'dr', 'dragged', 'dragging', 'drama', 'dramatic', 'draw', 'drawn', 'dream', 'dreams', 'dress', 'drew', 'drews', 'drink', 'drive', 'driven', 'drives', 'driving', 'drop', 'dropped', 'drug', 'drugs', 'drunk', 'dry', 'dual', 'duct', 'due', 'duo', 'dust', 'dying', 'dynamics', 'dysfunctional', 'dystopian', 'eager', 'eagerly', 'earlier', 'early', 'earth', 'easier', 'easily', 'easton', 'easy', 'eat', 'echo', 'eclipse', 'eden', 'edens', 'edge', 'edgy', 'editing', 'educated', 'edward', 'effect', 'effort', 'eh', 'eight', 'either', 'elaborate', 'elderly', 'eleanor', 'elec', 'element', 'elements', 'eleven', 'eli', 'elias', 'elis', 'elissa', 'elite', 'elizabeth', 'ella', 'elle', 'ellen', 'ellie', 'ellies', 'else', 'em', 'email', 'emails', 'embarrassing', 'embry', 'emeric', 'emerson', 'emily', 'emilys', 'emma', 'emmy', 'emotion', 'emotional', 'emotionally', 'emotions', 'empathy', 'emphasis', 'employee', 'empty', 'enchanted', 'encounter', 'encounters', 'end', 'endearing', 'ended', 'ending', 'endings', 'endless', 'ends', 'endure', 'endured', 'energy', 'engaged', 'engaging', 'engineer', 'england', 'english', 'engrossing', 'enjoy', 'enjoyable', 'enjoyed', 'enjoying', 'enjoyment', 'enough', 'ensue', 'ensues', 'enter', 'entering', 'enters', 'entertained', 'entertaining', 'enthralled', 'enthralling', 'entire', 'entirely', 'entranced', 'entries', 'entry', 'epic', 'epilogue', 'equal', 'equally', 'eric', 'erin', 'erotic', 'erotica', 'escape', 'escaped', 'escapist', 'especially', 'essential', 'etc', 'ethan', 'ethans', 'europe', 'evan', 'evans', 'eve', 'even', 'event', 'events', 'eventually', 'ever', 'every', 'everyone', 'everyones', 'everything', 'everywhere', 'evie', 'evil', 'ex', 'exactly', 'example', 'examples', 'excellent', 'except', 'exception', 'excerpt', 'excessive', 'exchange', 'excited', 'excitement', 'exciting', 'excuse', 'exist', 'existed', 'existence', 'expect', 'expectations', 'expected', 'expecting', 'expects', 'expedition', 'experience', 'experienced', 'experiences', 'experiment', 'explain', 'explained', 'explains', 'explanation', 'explicit', 'exploding', 'exploration', 'explore', 'explored', 'explores', 'explosive', 'expression', 'extent', 'exterior', 'extra', 'extraneous', 'extreme', 'extremely', 'exwife', 'eye', 'eyes', 'fabulous', 'fabulously', 'face', 'facebook', 'faced', 'faces', 'facing', 'fact', 'factor', 'fail', 'fails', 'faint', 'fair', 'fairly', 'fairy', 'fairytale', 'faith', 'fall', 'fallen', 'falling', 'fallon', 'falls', 'false', 'fame', 'familiar', 'families', 'family', 'familys', 'famous', 'fan', 'fangirl', 'fans', 'fantasies', 'fantastic', 'fantasy', 'far', 'farm', 'farming', 'fascinated', 'fascinating', 'fashion', 'fast', 'fastpaced', 'fate', 'father', 'fathers', 'fault', 'faults', 'favorite', 'favorites', 'fdup', 'fear', 'fears', 'feat', 'features', 'featuring', 'feel', 'feelgood', 'feeling', 'feelings', 'feels', 'feet', 'feisty', 'fell', 'fellow', 'felt', 'female', 'fern', 'feynman', 'fi', 'fiance', 'fiancee', 'fiction', 'fictional', 'field', 'fierce', 'fiercely', 'fifteen', 'fight', 'fighter', 'fighting', 'fights', 'figure', 'figured', 'fill', 'filled', 'filler', 'filling', 'fills', 'film', 'filthy', 'final', 'finally', 'financial', 'find', 'finding', 'finds', 'fine', 'finger', 'fingers', 'finish', 'finished', 'finishing', 'finn', 'fiona', 'fire', 'fireworks', 'firm', 'firmly', 'first', 'fisher', 'fit', 'fits', 'five', 'fix', 'fixed', 'flame', 'flashback', 'flashbacks', 'flashforward', 'flat', 'flawed', 'flawless', 'flaws', 'flight', 'fling', 'flirting', 'floor', 'florida', 'flowers', 'flowing', 'flows', 'fluff', 'fly', 'flying', 'flynn', 'flynns', 'focus', 'focused', 'focuses', 'folgate', 'folks', 'follow', 'followed', 'following', 'follows', 'food', 'football', 'forbidden', 'force', 'forced', 'forces', 'ford', 'foremost', 'foreshadowing', 'forever', 'forged', 'forget', 'forgive', 'forgiveness', 'forgot', 'forgotten', 'form', 'format', 'formatting', 'former', 'forms', 'forth', 'forward', 'foster', 'fought', 'found', 'four', 'fox', 'fragile', 'france', 'frank', 'frankie', 'frankies', 'freaking', 'frederick', 'free', 'freedom', 'freeing', 'fresh', 'freshman', 'friend', 'friends', 'friendship', 'friendstolovers', 'frobisher', 'front', 'fruit', 'frustrated', 'frustration', 'fuck', 'fucked', 'fucking', 'fueled', 'fulfill', 'fulfilling', 'full', 'fullblown', 'fulllength', 'fully', 'fun', 'funniest', 'funny', 'fury', 'future', 'gabe', 'gabriel', 'gabriels', 'gage', 'gah', 'gain', 'gale', 'gallery', 'gallo', 'game', 'games', 'gang', 'garden', 'garrett', 'gates', 'gave', 'gavin', 'gay', 'geek', 'gem', 'gender', 'general', 'generally', 'generation', 'generations', 'generous', 'genius', 'genre', 'gentle', 'genuine', 'georgia', 'german', 'germany', 'get', 'gets', 'getting', 'giant', 'giants', 'gift', 'gifted', 'gillian', 'ginger', 'gingers', 'ginny', 'girl', 'girlfriend', 'girls', 'give', 'giveaway', 'given', 'gives', 'giving', 'glad', 'glance', 'glass', 'glimpse', 'glimpses', 'glines', 'glorious', 'glory', 'go', 'goal', 'god', 'gods', 'godwin', 'goes', 'going', 'gold', 'golden', 'gone', 'gonna', 'good', 'goodbye', 'goodness', 'goodreads', 'goods', 'gorgeous', 'gosh', 'got', 'goto', 'gotta', 'gotten', 'grab', 'grabbed', 'grabs', 'grace', 'grad', 'grade', 'gradual', 'gradually', 'graduation', 'graham', 'grand', 'grandfather', 'grandmother', 'grant', 'graphic', 'grateful', 'gray', 'grayson', 'graysons', 'great', 'greatest', 'greatly', 'greek', 'greg', 'greta', 'grew', 'grey', 'greyson', 'grief', 'griff', 'grim', 'grip', 'gripping', 'gritty', 'grizz', 'groan', 'grok', 'ground', 'grounded', 'group', 'grow', 'growing', 'grown', 'grows', 'grumpy', 'guarantee', 'guard', 'guess', 'guessing', 'guilt', 'guilty', 'guns', 'gutwrenching', 'guy', 'guys', 'hacking', 'haddie', 'hadnt', 'hail', 'hair', 'half', 'halfway', 'hall', 'halle', 'hand', 'handle', 'handled', 'hands', 'handsome', 'hang', 'hanging', 'hangover', 'hanna', 'hannah', 'happen', 'happened', 'happening', 'happens', 'happily', 'happiness', 'happy', 'hard', 'hardball', 'harder', 'hardly', 'hardworking', 'harlow', 'harm', 'harmony', 'harper', 'harry', 'harsh', 'hartley', 'hasnt', 'hate', 'hated', 'hateful', 'hates', 'hatred', 'hattie', 'haunt', 'haunted', 'havent', 'hawk', 'hawkins', 'hayden', 'hayes', 'hazel', 'hea', 'head', 'heads', 'healing', 'healthy', 'hear', 'heard', 'hearing', 'heart', 'heartache', 'heartbeat', 'heartbreak', 'heartbreaking', 'heartfelt', 'heartpounding', 'hearts', 'heartsandflowers', 'heartstopping', 'heartwarming', 'heartwrenching', 'heat', 'heated', 'heaven', 'heavier', 'heavily', 'heavy', 'heck', 'hed', 'heed', 'heels', 'heir', 'held', 'helen', 'helena', 'helenas', 'hell', 'hellbent', 'hello', 'helluva', 'help', 'helped', 'helping', 'helps', 'henry', 'heres', 'hero', 'heroes', 'heroine', 'heroines', 'herrings', 'hes', 'hey', 'hidden', 'hide', 'hides', 'hiding', 'high', 'higher', 'highlighted', 'highly', 'highs', 'hilarious', 'hill', 'hint', 'hints', 'hips', 'hires', 'historical', 'histories', 'history', 'hit', 'hits', 'hmm', 'hockey', 'hold', 'holden', 'holder', 'holding', 'holds', 'hole', 'holes', 'holiday', 'holli', 'holly', 'hollywood', 'holt', 'holy', 'home', 'honest', 'honestly', 'honesty', 'honor', 'hook', 'hooked', 'hooking', 'hookup', 'hookups', 'hoover', 'hoovers', 'hope', 'hoped', 'hopeful', 'hopefully', 'hopeless', 'hopes', 'hoping', 'horrible', 'horribly', 'horrific', 'horror', 'horse', 'horses', 'hospital', 'hot', 'hotness', 'hotter', 'hottest', 'hour', 'hours', 'house', 'household', 'however', 'http', 'hudson', 'huge', 'human', 'humanity', 'humans', 'humor', 'humorous', 'hundred', 'hundreds', 'hunger', 'hunter', 'hunters', 'hurt', 'hurting', 'hurts', 'husband', 'hush', 'hybrid', 'hype', 'hypnotic', 'ice', 'id', 'idaho', 'idea', 'ideas', 'identity', 'idk', 'ignore', 'ignored', 'ii', 'ill', 'illness', 'illustrations', 'im', 'image', 'imagination', 'imaginative', 'imagine', 'imagined', 'immediate', 'immediately', 'immensely', 'immersed', 'imo', 'impact', 'imperfect', 'importance', 'important', 'impossible', 'impressed', 'impression', 'impressive', 'improved', 'impulsive', 'inaccurate', 'inch', 'incident', 'includes', 'including', 'incomplete', 'inconsistencies', 'incredible', 'incredibly', 'indebted', 'indeed', 'independent', 'india', 'industry', 'inevitable', 'inexperienced', 'inferno', 'influence', 'information', 'infuriating', 'inhabitants', 'initially', 'ink', 'inked', 'inner', 'innocence', 'innocent', 'insane', 'insanely', 'insecure', 'insecurities', 'inside', 'insight', 'insightful', 'inspiration', 'inspires', 'installment', 'instalove', 'instance', 'instant', 'instantly', 'instead', 'insufficient', 'integral', 'intelligent', 'intended', 'intense', 'intensely', 'interaction', 'interest', 'interested', 'interesting', 'interfered', 'internal', 'internet', 'interview', 'interwoven', 'intimacy', 'intimate', 'intricate', 'intrigue', 'intrigued', 'intriguing', 'introduce', 'introduced', 'introduces', 'introducing', 'introduction', 'intrusive', 'inventive', 'invested', 'invited', 'involved', 'involves', 'involving', 'iris', 'irish', 'iron', 'irresistible', 'isabelle', 'isis', 'isnt', 'issue', 'issues', 'itll', 'ive', 'ivory', 'ivy', 'izzy', 'jace', 'jack', 'jacks', 'jackson', 'jacob', 'jaded', 'jail', 'jake', 'james', 'jamie', 'jane', 'january', 'japanese', 'jared', 'jareds', 'jason', 'javier', 'jay', 'jealousy', 'jeevan', 'jem', 'jen', 'jenn', 'jennifer', 'jenreadit', 'jerk', 'jess', 'jesse', 'jessica', 'jesus', 'jethro', 'jewel', 'jill', 'jillian', 'jimmy', 'joanna', 'job', 'jobs', 'jodi', 'joe', 'john', 'johnny', 'join', 'joined', 'joke', 'joker', 'jonah', 'jonathan', 'jordan', 'josh', 'joss', 'journal', 'journalist', 'journals', 'journey', 'joy', 'judge', 'judgment', 'judgmental', 'juicy', 'julian', 'juliet', 'jump', 'jumping', 'june', 'justice', 'justin', 'ka', 'kacey', 'kaci', 'kadence', 'kane', 'karina', 'karissa', 'karma', 'karou', 'kasies', 'kat', 'kate', 'katherine', 'katniss', 'katnisss', 'kats', 'katy', 'katys', 'kayden', 'kaye', 'keeland', 'keelands', 'keep', 'keeping', 'keeps', 'kellan', 'kellen', 'keller', 'kelley', 'kelly', 'kennedy', 'kennedys', 'kenzie', 'kepnes', 'kept', 'kes', 'key', 'kick', 'kickass', 'kid', 'kidding', 'kidnapping', 'kidnaps', 'kids', 'kieras', 'kiersten', 'kill', 'killed', 'killer', 'killers', 'killing', 'kind', 'kinda', 'kindle', 'kindly', 'kindness', 'kindred', 'kinds', 'king', 'kings', 'kingsley', 'kingsleys', 'kink', 'kinky', 'kinsley', 'kira', 'kirsty', 'kisa', 'kiss', 'kissed', 'kisses', 'kissing', 'kit', 'kitchen', 'kitty', 'kneeling', 'knees', 'knew', 'knight', 'knights', 'knocked', 'knocks', 'know', 'knowing', 'knowledge', 'known', 'knows', 'knox', 'kraken', 'kristen', 'kristy', 'kudos', 'kulti', 'kyle', 'kylie', 'la', 'labor', 'lack', 'lacking', 'lackluster', 'ladies', 'lady', 'laemas', 'lairds', 'lake', 'lame', 'lamp', 'land', 'landed', 'landon', 'lane', 'language', 'lap', 'lapse', 'large', 'largely', 'larger', 'larson', 'las', 'last', 'lasting', 'late', 'lately', 'later', 'latest', 'latter', 'laugh', 'laughed', 'laughing', 'laughoutloud', 'laughs', 'laughter', 'laura', 'laurelin', 'laurelyn', 'lauren', 'laurens', 'law', 'lawyer', 'lay', 'layer', 'layered', 'layers', 'layla', 'lays', 'lds', 'lead', 'leader', 'leading', 'leads', 'league', 'leah', 'lean', 'leaned', 'leaning', 'leans', 'leap', 'learn', 'learned', 'learning', 'learns', 'least', 'leather', 'leave', 'leaves', 'leaving', 'led', 'lees', 'left', 'leg', 'legal', 'legend', 'legendary', 'legs', 'leisa', 'lena', 'length', 'lenore', 'leo', 'leos', 'less', 'lesson', 'lessons', 'let', 'lets', 'letter', 'letters', 'letting', 'level', 'levels', 'levi', 'lewis', 'lex', 'lexi', 'lg', 'lia', 'liam', 'librarian', 'library', 'lick', 'lie', 'lies', 'liesel', 'liesels', 'life', 'lifechanging', 'lifelong', 'lifes', 'lifestyle', 'lifetime', 'light', 'lighten', 'lightens', 'lighthearted', 'lightly', 'lights', 'liis', 'likable', 'like', 'likeable', 'liked', 'likely', 'likes', 'liking', 'lilah', 'lilley', 'lillia', 'lillias', 'lily', 'limited', 'limits', 'linden', 'line', 'lines', 'link', 'linking', 'lip', 'lips', 'lisa', 'list', 'listen', 'listened', 'listening', 'lists', 'literally', 'little', 'liv', 'live', 'lived', 'lives', 'livia', 'livie', 'living', 'livs', 'livy', 'livys', 'lizzie', 'lo', 'loads', 'local', 'locales', 'located', 'lock', 'locke', 'locked', 'locker', 'logan', 'logans', 'logic', 'lol', 'lola', 'london', 'loneliness', 'lonely', 'loner', 'long', 'longer', 'longing', 'longs', 'longterm', 'longtime', 'look', 'looked', 'looking', 'looks', 'loomis', 'loop', 'loose', 'lopsided', 'lord', 'lore', 'lorrie', 'lorris', 'los', 'lose', 'loser', 'loses', 'losing', 'loss', 'lost', 'lot', 'lots', 'loud', 'lovable', 'love', 'loveable', 'loved', 'lovehate', 'loveless', 'lovely', 'lover', 'lovers', 'loves', 'loving', 'low', 'lower', 'lows', 'loyal', 'loyalty', 'lucas', 'lucian', 'luciano', 'lucie', 'luck', 'luckily', 'lucky', 'lucy', 'luisa', 'luka', 'lukas', 'luke', 'lumbersexual', 'lung', 'lurking', 'lush', 'lust', 'lydia', 'lydias', 'lying', 'lyra', 'lyrical', 'lyrics', 'maas', 'machine', 'mack', 'mad', 'madam', 'madame', 'maddening', 'maddox', 'made', 'madeleine', 'madeup', 'madison', 'madly', 'madness', 'madoc', 'madrigal', 'mae', 'maes', 'mafia', 'magic', 'magical', 'magnificent', 'main', 'mainly', 'maintain', 'major', 'majority', 'make', 'makenna', 'makes', 'making', 'malcolm', 'maldeamores', 'male', 'males', 'malpas', 'man', 'manage', 'managed', 'mandy', 'manhattan', 'manipulation', 'mannerisms', 'mans', 'mansions', 'manwhore', 'many', 'mapped', 'mara', 'march', 'marches', 'marcus', 'mariana', 'maribels', 'marine', 'mark', 'market', 'marketing', 'marks', 'marriage', 'marriages', 'married', 'marry', 'marrying', 'mars', 'martha', 'martin', 'marveled', 'mary', 'marys', 'mask', 'masked', 'mason', 'masons', 'massive', 'master', 'masterful', 'masters', 'match', 'matching', 'mate', 'mateo', 'material', 'mates', 'math', 'matt', 'matter', 'mattered', 'matters', 'matts', 'matty', 'mature', 'matured', 'maverick', 'max', 'may', 'maya', 'maybe', 'mayhem', 'mayor', 'mc', 'mccarthy', 'mcguire', 'mcniven', 'mcs', 'mean', 'meanest', 'meaning', 'meaningful', 'meaningless', 'means', 'meant', 'measure', 'measured', 'mechanical', 'media', 'medical', 'medicine', 'meditations', 'meet', 'meeting', 'meets', 'megan', 'mel', 'melanie', 'melissa', 'melodramatic', 'melt', 'member', 'members', 'memoir', 'memorable', 'memories', 'memory', 'men', 'menage', 'mental', 'mention', 'mentioned', 'mentions', 'mercy', 'mere', 'meredith', 'merely', 'merge', 'merikan', 'merit', 'mesmerized', 'mess', 'message', 'messages', 'messy', 'met', 'metal', 'metamorphosis', 'metaphor', 'metaverse', 'meter', 'methods', 'mia', 'miami', 'mias', 'michael', 'mickey', 'middle', 'middleend', 'middleton', 'midnight', 'might', 'migrant', 'mildly', 'miles', 'military', 'millay', 'miller', 'million', 'millionaire', 'millions', 'mind', 'mindblowing', 'mindless', 'minds', 'mine', 'minimum', 'minor', 'minority', 'minotaur', 'minute', 'minutes', 'miracle', 'mirella', 'mirroring', 'miscommunication', 'miscommunications', 'miserable', 'misguided', 'misha', 'misleading', 'mismatched', 'miss', 'missed', 'missing', 'mission', 'missionary', 'mistake', 'mistakes', 'mister', 'mistress', 'mists', 'misunderstandings', 'misunderstood', 'mitch', 'mix', 'mixed', 'mixes', 'mm', 'mma', 'mob', 'mocking', 'model', 'models', 'modern', 'moira', 'molly', 'mom', 'moment', 'moments', 'moms', 'mona', 'monarch', 'money', 'monks', 'monologue', 'monster', 'monsters', 'montana', 'month', 'months', 'mood', 'moody', 'moon', 'moonshot', 'moral', 'morals', 'morgan', 'mormon', 'morning', 'morphed', 'morris', 'mortal', 'mostly', 'mother', 'mothers', 'motivated', 'motivations', 'motocross', 'motorcycle', 'motto', 'mountain', 'mountains', 'mourning', 'mouse', 'mouth', 'move', 'moved', 'movement', 'moves', 'movie', 'movies', 'moving', 'mr', 'ms', 'much', 'muchneeded', 'mud', 'multidimensional', 'multiple', 'mumbled', 'murder', 'murdered', 'muscles', 'muscular', 'museum', 'music', 'musical', 'musician', 'musicians', 'must', 'mustread', 'mustreads', 'muttered', 'mutual', 'mysteries', 'mysterious', 'mystery', 'mystical', 'mythology', 'nailbiting', 'nailed', 'nails', 'naive', 'name', 'named', 'names', 'nan', 'nans', 'nao', 'naomi', 'naomis', 'naos', 'napa', 'narrated', 'narrating', 'narration', 'narrative', 'narratives', 'narrator', 'narrators', 'narrowed', 'nastya', 'natasha', 'nate', 'nathan', 'native', 'natural', 'naturally', 'nature', 'naughty', 'naz', 'nd', 'near', 'nearconstant', 'nearly', 'neat', 'necessarily', 'necessary', 'need', 'needed', 'needing', 'needles', 'needs', 'negative', 'neighbor', 'neighborhood', 'neil', 'neither', 'nellie', 'nerdy', 'netgalley', 'never', 'new', 'news', 'next', 'nice', 'nicely', 'nicholas', 'nick', 'nicki', 'nickname', 'nico', 'nicola', 'nicole', 'niece', 'night', 'nights', 'nik', 'nikki', 'nikolai', 'nila', 'nina', 'nine', 'nix', 'nobody', 'nobodys', 'noelle', 'none', 'nonetheless', 'nononsense', 'nonstop', 'nora', 'nordstrom', 'normal', 'normalcy', 'normally', 'north', 'northern', 'nose', 'nostalgic', 'note', 'notes', 'nothin', 'nothing', 'notice', 'noticed', 'notion', 'notorious', 'novel', 'novella', 'novellas', 'novels', 'november', 'nowhere', 'nuance', 'nuanced', 'number', 'nurture', 'object', 'observation', 'obsessed', 'obsession', 'obsessive', 'obstacles', 'obvious', 'obviously', 'occasionally', 'occurred', 'occurs', 'october', 'odd', 'odds', 'offbeat', 'offer', 'offers', 'office', 'offlimits', 'offthecharts', 'often', 'oh', 'ok', 'okay', 'old', 'older', 'oldest', 'oldfashioned', 'oliver', 'olivia', 'oly', 'olympus', 'omg', 'one', 'onenight', 'ones', 'onetwo', 'online', 'onto', 'open', 'opened', 'opening', 'openly', 'openness', 'opens', 'operation', 'opinion', 'opinions', 'opportunities', 'opportunity', 'opposite', 'opposites', 'order', 'ordinary', 'organic', 'organize', 'original', 'originally', 'orleans', 'others', 'otherwise', 'outer', 'outside', 'outsider', 'outstanding', 'outwardly', 'ovaries', 'overall', 'overcome', 'overlook', 'overthetop', 'overwhelming', 'owes', 'owl', 'owned', 'owner', 'pace', 'paced', 'pacing', 'pack', 'package', 'pact', 'page', 'pages', 'pageturner', 'paige', 'pain', 'painful', 'painfully', 'paint', 'painting', 'pair', 'pakastan', 'palace', 'palm', 'pam', 'paragraph', 'parallel', 'parallels', 'paranormal', 'parent', 'parents', 'paris', 'park', 'part', 'particular', 'particularly', 'partner', 'parts', 'party', 'pass', 'passages', 'passed', 'passion', 'passionate', 'passions', 'past', 'pasts', 'path', 'paths', 'patient', 'pattern', 'paul', 'pawn', 'pay', 'paying', 'peace', 'peculiar', 'peek', 'pen', 'penelope', 'penis', 'penises', 'people', 'peoples', 'pepper', 'percent', 'percy', 'perfect', 'perfection', 'perfectly', 'perhaps', 'period', 'permanent', 'perry', 'persistent', 'person', 'personal', 'personality', 'personally', 'perspective', 'perspectives', 'peter', 'peyton', 'phenomenal', 'philosophical', 'philosophy', 'phone', 'photo', 'phrase', 'phrases', 'physical', 'physically', 'physics', 'pick', 'picked', 'picking', 'picks', 'picky', 'picture', 'piece', 'pieces', 'pierce', 'pim', 'pins', 'piper', 'place', 'placed', 'places', 'plain', 'plan', 'planned', 'plans', 'play', 'played', 'player', 'players', 'playing', 'plays', 'pleasantly', 'please', 'pleasure', 'plenty', 'plot', 'plots', 'plus', 'poetic', 'poignant', 'point', 'pointed', 'pointless', 'points', 'poison', 'policy', 'political', 'politics', 'pool', 'poor', 'poppy', 'popular', 'population', 'porn', 'porter', 'portrayal', 'portrayed', 'position', 'positive', 'possessions', 'possessive', 'possibility', 'possible', 'possibly', 'post', 'postreading', 'potential', 'potter', 'poughkeepsie', 'pounding', 'pov', 'povs', 'power', 'powerful', 'powers', 'pows', 'practically', 'practice', 'pray', 'precious', 'predict', 'predictable', 'predicted', 'prediction', 'predictions', 'prefer', 'pregnant', 'premise', 'prepare', 'prepared', 'prequel', 'prescott', 'presence', 'present', 'presentday', 'presented', 'presenting', 'presents', 'president', 'press', 'pressed', 'pressure', 'pressures', 'prest', 'prestigious', 'preston', 'pretend', 'pretending', 'pretentious', 'pretty', 'prevents', 'previous', 'previously', 'prey', 'price', 'priceless', 'prickly', 'pride', 'priest', 'priesthood', 'primal', 'primarily', 'prince', 'princess', 'principle', 'principles', 'print', 'printers', 'prior', 'prison', 'prisoner', 'privacy', 'private', 'prize', 'pro', 'probably', 'problem', 'problems', 'process', 'processes', 'prodigy', 'product', 'production', 'productive', 'professed', 'profession', 'professional', 'professor', 'program', 'programmers', 'programming', 'progress', 'progressed', 'project', 'projected', 'prologue', 'prolonged', 'prominent', 'promise', 'promised', 'promises', 'promising', 'prompt', 'proof', 'proper', 'properly', 'proposes', 'proposition', 'prose', 'protagonist', 'protagonists', 'protect', 'protected', 'protecting', 'protection', 'protective', 'protector', 'protocol', 'protons', 'proud', 'prove', 'proved', 'proves', 'provide', 'provided', 'provides', 'proving', 'provo', 'pseudonym', 'psychic', 'psycho', 'psychological', 'psychology', 'ptsd', 'public', 'published', 'publisher', 'publishing', 'puck', 'puddle', 'pull', 'pulled', 'pulling', 'pulls', 'pulse', 'pun', 'punch', 'punish', 'punk', 'pure', 'purely', 'purpose', 'pursue', 'pursued', 'pursues', 'pursuing', 'push', 'pushed', 'pushes', 'pushing', 'pushover', 'pussy', 'put', 'puts', 'putting', 'puzzles', 'qs', 'qualities', 'quality', 'quantum', 'queen', 'quest', 'question', 'questioned', 'questions', 'quick', 'quickly', 'quiet', 'quietly', 'quinn', 'quintessential', 'quirky', 'quite', 'quote', 'quotes', 'ra', 'rabbit', 'rabbits', 'race', 'raced', 'racer', 'races', 'rachel', 'racing', 'raeder', 'raeders', 'rafe', 'rage', 'raid', 'raiden', 'rain', 'rainbow', 'rainbows', 'raine', 'raise', 'raised', 'raising', 'ramsay', 'ran', 'rana', 'random', 'rania', 'ranks', 'ransom', 'rant', 'ranting', 'rape', 'raped', 'rapid', 'rapist', 'rare', 'rarely', 'rarer', 'rate', 'rated', 'rather', 'rating', 'raved', 'raven', 'raving', 'raw', 'rawness', 'rayven', 'raze', 'rd', 'reach', 'reached', 'reaching', 'reacting', 'reaction', 'reactions', 'read', 'readable', 'reader', 'readers', 'reading', 'reads', 'ready', 'real', 'realism', 'realistic', 'realities', 'reality', 'realization', 'realize', 'realized', 'realizes', 'realizing', 'reallife', 'really', 'ream', 'reap', 'reapers', 'reappear', 'reappeared', 'reason', 'reasons', 'rebecca', 'rebeccas', 'rebel', 'rebels', 'recall', 'received', 'receiving', 'recent', 'recently', 'recipe', 'reckless', 'reclusive', 'recognition', 'recognize', 'recognized', 'recommend', 'recommended', 'recommending', 'reconcile', 'record', 'recover', 'recovered', 'recovering', 'recuperate', 'red', 'redeem', 'redeeming', 'redemption', 'reed', 'reeling', 'reese', 'reeve', 'reference', 'references', 'reflect', 'refreshing', 'refreshingly', 'refuse', 'refuses', 'regan', 'regency', 'regina', 'register', 'regret', 'regretted', 'regular', 'reid', 'reiner', 'reiss', 'reisz', 'reiszs', 'rejected', 'relatable', 'relate', 'related', 'relationship', 'relationships', 'release', 'released', 'relentlessly', 'relevant', 'relief', 'relieved', 'religion', 'religious', 'reluctant', 'rely', 'remain', 'remained', 'remains', 'remarks', 'remember', 'remembered', 'remembering', 'remembers', 'remind', 'reminded', 'reminder', 'reminds', 'remington', 'reminiscent', 'remnants', 'remotely', 'remy', 'remys', 'ren', 'renee', 'rennie', 'renowned', 'rens', 'rent', 'renting', 'repair', 'repeat', 'repeated', 'replaced', 'replies', 'reporter', 'reporting', 'representation', 'represents', 'reputation', 'request', 'requested', 'require', 'required', 'reread', 'rereading', 'rescue', 'research', 'resentful', 'reserved', 'resilient', 'resist', 'resistance', 'resists', 'resolution', 'resolutions', 'resolve', 'resolved', 'resort', 'respect', 'responding', 'responsibility', 'rest', 'restaurant', 'restless', 'restored', 'results', 'retelling', 'retirement', 'return', 'returned', 'returning', 'returns', 'reunited', 'reveal', 'revealed', 'revealing', 'reveals', 'revelation', 'revenge', 'revere', 'review', 'reviewed', 'reviewers', 'reviews', 'revise', 'revolution', 'revolves', 'reward', 'rewarded', 'rex', 'rey', 'reyes', 'reynards', 'rich', 'richer', 'richly', 'richness', 'rick', 'ricochet', 'ride', 'rides', 'ridge', 'ridiculous', 'riding', 'ridley', 'right', 'righteousness', 'rigid', 'riley', 'rileys', 'ring', 'riordan', 'ripped', 'rips', 'riptide', 'rise', 'rising', 'risk', 'risking', 'risks', 'risky', 'rival', 'rivalry', 'river', 'rivers', 'riveting', 'ro', 'road', 'roads', 'roan', 'robert', 'robinne', 'robinson', 'robot', 'robots', 'rocha', 'rock', 'rocker', 'rockets', 'rockstar', 'rocky', 'rogue', 'role', 'roles', 'roll', 'rolled', 'roller', 'rollercoaster', 'rolling', 'roman', 'romance', 'romances', 'romantic', 'romantically', 'rome', 'romeo', 'romig', 'ronan', 'ronins', 'rook', 'rookie', 'room', 'roommate', 'roommates', 'rooms', 'root', 'rooted', 'rooting', 'roots', 'rose', 'rosemary', 'roses', 'rot', 'roth', 'rough', 'rounded', 'routine', 'rowing', 'royal', 'royals', 'ruby', 'rugby', 'ruger', 'ruin', 'ruined', 'ruining', 'rule', 'rules', 'run', 'runaway', 'rune', 'running', 'runs', 'rural', 'rush', 'rushed', 'rushing', 'russian', 'rusty', 'ruth', 'ruthless', 'ruths', 'ryan', 'ryans', 'ryder', 'ryen', 'rylee', 'rylees', 'sabian', 'sabotage', 'sabrina', 'sacked', 'sacrifice', 'sacrificed', 'sacrifices', 'sad', 'saddened', 'sadie', 'sadistic', 'sadly', 'sadness', 'safe', 'safety', 'saga', 'sagan', 'sage', 'said', 'sailing', 'sailor', 'saint', 'sake', 'sal', 'saleem', 'salsbury', 'sam', 'samantha', 'samanthe', 'sample', 'san', 'sanity', 'sansa', 'sappy', 'sara', 'sarah', 'sarcasm', 'sarcastic', 'sarina', 'sassy', 'sat', 'satisfied', 'satisfy', 'satisfying', 'saturday', 'savage', 'save', 'saved', 'saves', 'saving', 'savior', 'savored', 'saw', 'sawyer', 'sawyers', 'say', 'saying', 'saylor', 'saylors', 'says', 'scam', 'scandal', 'scaramanga', 'scare', 'scared', 'scares', 'scarlett', 'scarletts', 'scars', 'scary', 'scene', 'scenery', 'scenes', 'scent', 'scheme', 'scholarship', 'school', 'schoolteacher', 'science', 'scientific', 'scientist', 'scissors', 'scorching', 'score', 'scoring', 'scott', 'scottish', 'scream', 'screamed', 'screaming', 'screwdrivered', 'screwed', 'sea', 'seamless', 'seamlessly', 'sean', 'search', 'searching', 'seaside', 'season', 'seat', 'seattle', 'seb', 'sebastian', 'sebastians', 'second', 'secondary', 'secondchance', 'seconds', 'secrecy', 'secret', 'secrets', 'section', 'sections', 'sector', 'secure', 'security', 'seduce', 'seduction', 'see', 'seeing', 'seek', 'seeking', 'seeks', 'seem', 'seemed', 'seemingly', 'seems', 'seen', 'sees', 'segments', 'select', 'selected', 'self', 'selfconfessed', 'selfdeprecating', 'selfesteem', 'selfharming', 'selfish', 'selfless', 'selfpublished', 'selfsufficient', 'selfworth', 'sell', 'sempre', 'send', 'sends', 'senior', 'senna', 'sense', 'senses', 'sensitive', 'sensitivity', 'senstive', 'sensual', 'sensuality', 'sent', 'sentence', 'sentimental', 'separate', 'separated', 'separation', 'sequel', 'sequels', 'sequence', 'serengeti', 'series', 'serious', 'seriously', 'serve', 'served', 'serves', 'service', 'sessions', 'set', 'seth', 'sets', 'setting', 'settings', 'settle', 'settled', 'seven', 'several', 'severe', 'sevin', 'sex', 'sexiest', 'sexiness', 'sexonly', 'sexual', 'sexuality', 'sexually', 'sexxxxxy', 'sexxxxy', 'sexxxy', 'sexy', 'sexysweet', 'shade', 'shades', 'shadow', 'shadows', 'shake', 'shakespeare', 'shaking', 'shallow', 'shame', 'shameless', 'shane', 'shaped', 'share', 'shared', 'shares', 'sharp', 'shattered', 'shayla', 'shed', 'sheds', 'shelf', 'shell', 'sheltered', 'shep', 'shepherd', 'sheridan', 'sheridans', 'sherlock', 'shes', 'shift', 'shifted', 'shifting', 'shifts', 'shine', 'shines', 'shining', 'ship', 'ships', 'shirt', 'shit', 'shitty', 'shock', 'shocked', 'shocker', 'shocking', 'shoes', 'shook', 'shooting', 'shop', 'shore', 'short', 'shortly', 'shortridge', 'shot', 'shoulder', 'shoulders', 'shouldnt', 'shouldve', 'show', 'showed', 'shower', 'showing', 'showmance', 'shown', 'shows', 'shut', 'shy', 'sick', 'side', 'sides', 'sidney', 'sidneys', 'sierra', 'sigh', 'sight', 'sights', 'sign', 'signals', 'signed', 'significance', 'significant', 'signs', 'silas', 'silence', 'silent', 'silently', 'silk', 'silo', 'silos', 'silver', 'similar', 'simon', 'simone', 'simple', 'simply', 'sin', 'since', 'sincere', 'sing', 'singer', 'singing', 'single', 'sings', 'sinhalese', 'sink', 'sinners', 'sins', 'sister', 'sisters', 'sit', 'sitting', 'situation', 'situations', 'sivecs', 'six', 'sixsmith', 'sizzling', 'sizzy', 'skeptical', 'skill', 'skills', 'skimmed', 'skin', 'skip', 'skipping', 'sky', 'skye', 'skyes', 'slang', 'slap', 'slapped', 'slave', 'slavery', 'slaves', 'slay', 'sleep', 'sleeps', 'slept', 'slide', 'slight', 'slightly', 'slip', 'sloan', 'sloane', 'slow', 'slowbuild', 'slowburn', 'slowly', 'slump', 'small', 'smalltown', 'smart', 'smell', 'smelled', 'smile', 'smiled', 'smiles', 'smiling', 'smitten', 'smoking', 'smokinghot', 'smutty', 'snappy', 'snarky', 'sneak', 'snow', 'soaring', 'sob', 'sobbing', 'sober', 'soccer', 'social', 'socialite', 'society', 'soft', 'softly', 'sold', 'solene', 'solid', 'solution', 'solve', 'someday', 'somehow', 'someone', 'someones', 'something', 'sometimes', 'somewhat', 'somewhere', 'somni', 'son', 'soon', 'sooo', 'soooo', 'sophia', 'sophie', 'soraya', 'sordid', 'soren', 'sorry', 'sort', 'sot', 'soul', 'souls', 'sound', 'sounded', 'sounds', 'south', 'southern', 'space', 'spain', 'span', 'spanish', 'spans', 'spark', 'sparks', 'sparrow', 'speak', 'speaking', 'speaks', 'special', 'speechless', 'speed', 'spell', 'spend', 'spent', 'sperm', 'spicy', 'spin', 'spinoff', 'spirit', 'spirited', 'spite', 'split', 'spoiled', 'spoiler', 'spoilerfree', 'spoilers', 'spoke', 'spoken', 'sport', 'sports', 'spot', 'spotlight', 'spoton', 'spread', 'spring', 'spy', 'squeezing', 'st', 'stable', 'staff', 'stage', 'stalker', 'stalking', 'stand', 'standalone', 'standard', 'standing', 'stands', 'star', 'staring', 'stars', 'start', 'started', 'starting', 'starts', 'state', 'statement', 'states', 'stay', 'stayed', 'staying', 'stays', 'steady', 'steal', 'stealing', 'steam', 'steamiest', 'steamy', 'step', 'stepbrother', 'stephanie', 'stephenson', 'stepped', 'stepping', 'steps', 'stereotypical', 'stern', 'stick', 'sticking', 'stickyness', 'still', 'stinger', 'stitch', 'stole', 'stolen', 'stomach', 'stood', 'stop', 'stopped', 'stops', 'store', 'stories', 'story', 'storyline', 'storyteller', 'storytelling', 'straight', 'strange', 'stranger', 'strategy', 'street', 'streets', 'strength', 'stress', 'stretch', 'strict', 'strictly', 'strike', 'strings', 'strip', 'strong', 'stronger', 'strongest', 'strongly', 'struck', 'structure', 'struggle', 'struggled', 'struggles', 'struggling', 'stubborn', 'stuck', 'student', 'students', 'studies', 'study', 'stuff', 'stumbled', 'stunned', 'stunning', 'stunningly', 'stupid', 'style', 'sub', 'subject', 'subjects', 'submission', 'submissive', 'subplots', 'substance', 'subtle', 'succeed', 'success', 'successful', 'suck', 'sucked', 'sucker', 'sucks', 'sudden', 'suddenly', 'suffer', 'suffered', 'suffering', 'suffers', 'suffice', 'sugar', 'sugarcoated', 'suggest', 'suggested', 'suggestion', 'sum', 'summary', 'summer', 'sunday', 'sunshine', 'super', 'superficial', 'superhot', 'supernatural', 'supersexy', 'superstar', 'supersteamy', 'support', 'supporting', 'suppose', 'supposed', 'supposedly', 'sure', 'surely', 'surface', 'surprise', 'surprised', 'surprises', 'surprising', 'surprisingly', 'surrounding', 'survival', 'survive', 'survivor', 'suspense', 'suspenseful', 'sutton', 'swan', 'swear', 'sweet', 'sweeter', 'sweetheart', 'sweetly', 'sweetness', 'swept', 'switch', 'switching', 'swoon', 'swooning', 'swoonworthy', 'swoony', 'sworn', 'sy', 'sydney', 'sylvain', 'sympathetic', 'sympathize', 'sympathy', 'synopsis', 'system', 'table', 'taboo', 'tahoe', 'take', 'taken', 'takes', 'taking', 'tale', 'talent', 'talented', 'tales', 'talk', 'talked', 'talking', 'tamil', 'tangled', 'tanner', 'tape', 'tarryn', 'taste', 'tasted', 'tate', 'tates', 'tattoo', 'tattooed', 'tattoos', 'taylor', 'tbr', 'tea', 'teach', 'teacher', 'teachers', 'teaching', 'team', 'tear', 'tears', 'tease', 'technically', 'tedious', 'teen', 'teenage', 'teenager', 'teenagers', 'teeth', 'tell', 'telling', 'tells', 'tempted', 'ten', 'tendencies', 'tendency', 'tender', 'tense', 'tension', 'tensions', 'term', 'terms', 'terrible', 'terribly', 'terrific', 'terrified', 'terrifies', 'terrifying', 'tess', 'tessa', 'test', 'tested', 'testing', 'tests', 'texas', 'text', 'tfios', 'th', 'thank', 'thankfully', 'thanks', 'thatd', 'thats', 'theatre', 'thebookbellas', 'thee', 'theme', 'themes', 'theories', 'theory', 'therapist', 'therefore', 'theres', 'theresa', 'theseus', 'theyd', 'theyll', 'theyre', 'theyve', 'thickens', 'thief', 'thigh', 'thighs', 'thin', 'thing', 'things', 'think', 'thinking', 'thinks', 'third', 'thirds', 'thirty', 'thomas', 'thoroughly', 'thou', 'though', 'thought', 'thoughtful', 'thoughtprovoking', 'thoughts', 'thousand', 'thousands', 'threads', 'threat', 'threatened', 'threatening', 'threatens', 'threats', 'three', 'threw', 'thrill', 'thrilled', 'thriller', 'thrillers', 'thrilling', 'thrills', 'thriving', 'throat', 'throne', 'throttle', 'throughout', 'throw', 'throwing', 'thrown', 'throws', 'thrust', 'thurman', 'thus', 'tidy', 'tie', 'tied', 'ties', 'tiffany', 'tight', 'tighter', 'till', 'tillie', 'time', 'timeline', 'timely', 'times', 'timothy', 'tina', 'tinker', 'tinkers', 'tiny', 'tipping', 'tired', 'tissue', 'tissues', 'title', 'titles', 'tj', 'tmi', 'tobias', 'today', 'todd', 'toes', 'together', 'told', 'tolerable', 'tom', 'tomorrow', 'ton', 'tone', 'tongue', 'tonight', 'tons', 'tony', 'tonys', 'took', 'tooth', 'top', 'topics', 'topnotch', 'tore', 'toread', 'tormented', 'torn', 'torre', 'torres', 'torrid', 'torture', 'tortured', 'torturing', 'total', 'totally', 'touch', 'touched', 'touches', 'touching', 'tough', 'toughasnails', 'toughguy', 'toughness', 'toughtalking', 'tour', 'toward', 'towards', 'towle', 'town', 'towns', 'toxic', 'trace', 'track', 'trademark', 'traffic', 'trafficking', 'tragedies', 'tragedy', 'tragic', 'train', 'training', 'transform', 'translated', 'transported', 'trapped', 'trauma', 'traumatic', 'travel', 'traveling', 'travels', 'travis', 'treacherous', 'treasure', 'treasured', 'treat', 'treated', 'treatment', 'treats', 'tree', 'trees', 'trek', 'trembling', 'tremendous', 'trent', 'trial', 'triangle', 'tribute', 'trick', 'tried', 'tries', 'trigger', 'trilogy', 'trio', 'trip', 'tris', 'tristan', 'triumph', 'trope', 'trouble', 'troubled', 'troy', 'truce', 'true', 'truly', 'trust', 'trusted', 'trusting', 'truth', 'try', 'trying', 'tshirt', 'tsot', 'tuck', 'tucker', 'tugs', 'tuition', 'tumultuous', 'turbulence', 'turn', 'turned', 'turner', 'turning', 'turnon', 'turns', 'tv', 'twentieth', 'twenty', 'twentysomethings', 'twice', 'twilight', 'twin', 'twins', 'twist', 'twisted', 'twists', 'twisty', 'twitch', 'twitter', 'two', 'ty', 'tyler', 'type', 'types', 'typical', 'typos', 'tyrion', 'uberalpha', 'ubersexy', 'ugh', 'ugly', 'ultimate', 'ultimately', 'ulysses', 'um', 'umm', 'unable', 'unanswered', 'unapologetic', 'unaware', 'unbearable', 'unbelievable', 'unbelievably', 'unbreakable', 'uncertain', 'uncertainty', 'uncivilized', 'uncle', 'uncomfortable', 'unconditional', 'unconditionally', 'unconventional', 'unconvincing', 'undefeated', 'undeniable', 'undercover', 'underdog', 'underground', 'underlying', 'underneath', 'underrated', 'understand', 'understandable', 'understanding', 'understands', 'understatement', 'understood', 'undertow', 'unecessary', 'unexpected', 'unexpectedly', 'unfair', 'unfamiliar', 'unfinished', 'unfixable', 'unflinching', 'unfold', 'unfolded', 'unfolds', 'unforgettable', 'unfortunate', 'unfortunately', 'uniform', 'unimaginable', 'uninteresting', 'union', 'unique', 'unit', 'united', 'universe', 'universes', 'university', 'unknown', 'unlikable', 'unlike', 'unlikeable', 'unlikely', 'unloveable', 'unlucky', 'unnecessary', 'unpredictable', 'unputdownable', 'unravel', 'unrealistic', 'unrequited', 'unsaid', 'unsatisfying', 'unseen', 'unspeakable', 'unstable', 'unsure', 'unteachable', 'unusual', 'unusually', 'unwanted', 'unwavering', 'unyielding', 'upbeat', 'upcoming', 'update', 'uplifting', 'upon', 'ups', 'urge', 'us', 'use', 'used', 'uses', 'using', 'usual', 'usually', 'utterly', 'va', 'vacation', 'vada', 'vague', 'valdez', 'valley', 'valuable', 'vampire', 'vampires', 'van', 'variety', 'various', 'vaughan', 'vegas', 'vein', 'veins', 'vengeance', 'vera', 'vermont', 'verra', 'verrrry', 'versa', 'version', 'veterinarian', 'vi', 'via', 'vice', 'vicious', 'victim', 'victims', 'victor', 'video', 'view', 'views', 'villain', 'villains', 'violence', 'violent', 'virgin', 'virginal', 'virtue', 'visit', 'visiting', 'visits', 'vital', 'vivi', 'vivian', 'vivid', 'vividly', 'vivienne', 'vocabulary', 'voice', 'volume', 'vote', 'voting', 'vow', 'vowed', 'vows', 'vs', 'vulnerable', 'wait', 'waited', 'waiting', 'waits', 'wake', 'wakes', 'walk', 'walked', 'walking', 'wall', 'walls', 'wanderlust', 'want', 'wanted', 'wanting', 'wants', 'war', 'ward', 'wards', 'warm', 'warmed', 'warmhearted', 'warmth', 'warned', 'warning', 'warnings', 'warns', 'warren', 'wars', 'wary', 'washed', 'washington', 'wasnt', 'waste', 'watch', 'watched', 'watches', 'watching', 'water', 'waters', 'watney', 'watson', 'watt', 'waves', 'wavy', 'wavys', 'way', 'ways', 'weak', 'weakness', 'wealth', 'wealthy', 'weapon', 'weapons', 'wear', 'wearing', 'wears', 'web', 'wed', 'wedding', 'wee', 'weed', 'week', 'weekend', 'weeks', 'weight', 'weird', 'welcome', 'well', 'welldeveloped', 'wellknown', 'wellthoughtout', 'wellwritten', 'welp', 'went', 'werent', 'wes', 'wesley', 'west', 'western', 'weston', 'wet', 'weve', 'whatever', 'whatnot', 'whats', 'whatsoever', 'whenever', 'wherever', 'whether', 'whew', 'whipsmart', 'whispered', 'whispers', 'white', 'whitehot', 'whitney', 'whoa', 'whod', 'whodunnit', 'whole', 'wholly', 'whopper', 'whos', 'whose', 'wicked', 'wide', 'wife', 'wikipedia', 'wild', 'wilder', 'wildest', 'wildly', 'willa', 'william', 'williams', 'willing', 'willingness', 'win', 'wind', 'window', 'wine', 'winery', 'wings', 'winner', 'winter', 'winters', 'wisdom', 'wise', 'wiser', 'wish', 'wished', 'wishes', 'wishing', 'wit', 'withhold', 'within', 'without', 'withstand', 'witness', 'witnessed', 'witnesses', 'wits', 'witty', 'wives', 'woke', 'wolf', 'wolves', 'woman', 'womanizer', 'womans', 'women', 'womens', 'wonder', 'wondered', 'wonderful', 'wonderfully', 'wonderfullywritten', 'wondering', 'wonders', 'wont', 'woodman', 'woods', 'wool', 'word', 'words', 'wordstock', 'work', 'workaholic', 'worked', 'worker', 'workers', 'working', 'workings', 'works', 'world', 'worldfamous', 'worldly', 'worlds', 'worldwide', 'worried', 'worries', 'worry', 'worse', 'worship', 'worst', 'worth', 'worthless', 'worthy', 'would', 'wouldnt', 'wouldve', 'wound', 'wounded', 'wounds', 'woven', 'wow', 'wrap', 'wrapped', 'wraps', 'wreck', 'wrecked', 'wren', 'wrenching', 'write', 'writer', 'writers', 'writes', 'writing', 'written', 'wrong', 'wrote', 'wtf', 'ww', 'wwii', 'www', 'wylde', 'wyldes', 'ya', 'yale', 'yay', 'yeah', 'year', 'yearning', 'yearold', 'years', 'yelled', 'yelling', 'yes', 'yesterday', 'yet', 'yknow', 'york', 'youd', 'youll', 'young', 'younger', 'youre', 'youth', 'youve', 'yummy', 'zaal', 'zach', 'zack', 'zak', 'zane', 'zanetti', 'zapata', 'zapatas', 'zelda', 'zero', 'zillion', 'zoe', 'zoes', 'zone']\n"
     ]
    }
   ],
   "source": [
    "#In this cell, we use Count Vectorizer to find the 5000 most common words that appear in the reviews.\n",
    "\n",
    "#Bag of Words with 5000 most common words\n",
    "vectorizer = CountVectorizer(analyzer='word', max_features = 5000)\n",
    "#find the right 5000 words\n",
    "vectorizer.fit(train_data)\n",
    "#let's look at which words it found\n",
    "print(vectorizer.get_feature_names())\n",
    "\n",
    "######################\n",
    "\n",
    "#use the vectorizer to transform review strings into word count vectors \n",
    "train_data_vectors = vectorizer.transform(train_data).toarray()\n",
    "test_data_vectors = vectorizer.transform(test_data).toarray()"
   ]
  },
  {
   "cell_type": "markdown",
   "metadata": {},
   "source": [
    "# Part III: Baseline Analysis\n",
    "\n",
    "\n",
    "In the next iteration, we will tweak parameters to see if we can improve on these baselines. \n",
    "We are working with the smallest version of the data set n = 1000."
   ]
  },
  {
   "cell_type": "code",
   "execution_count": 6,
   "metadata": {},
   "outputs": [
    {
     "name": "stdout",
     "output_type": "stream",
     "text": [
      "done in 0.032s\n",
      "accuracy: 0.905\n"
     ]
    }
   ],
   "source": [
    "#MultinomialNB (naive bayes) \n",
    "\n",
    "mnb = MultinomialNB()\n",
    "t0 = time()\n",
    "mnb.fit(train_data_vectors,train_sln)\n",
    "preds = mnb.predict(test_data_vectors)\n",
    "print(\"done in %0.3fs\" % (time() - t0))\n",
    "print(\"accuracy:\", accuracy_score(preds,test_sln))\n"
   ]
  },
  {
   "cell_type": "code",
   "execution_count": 7,
   "metadata": {},
   "outputs": [
    {
     "name": "stderr",
     "output_type": "stream",
     "text": [
      "/opt/anaconda3/lib/python3.6/site-packages/sklearn/svm/base.py:193: FutureWarning: The default value of gamma will change from 'auto' to 'scale' in version 0.22 to account better for unscaled features. Set gamma explicitly to 'auto' or 'scale' to avoid this warning.\n",
      "  \"avoid this warning.\", FutureWarning)\n"
     ]
    },
    {
     "name": "stdout",
     "output_type": "stream",
     "text": [
      "done in 1.432s\n",
      "accuracy: 0.915\n"
     ]
    }
   ],
   "source": [
    "#Support Vector Machine\n",
    "\n",
    "svc = SVC()\n",
    "t0 = time()\n",
    "svc.fit(train_data_vectors,train_sln)\n",
    "preds = svc.predict(test_data_vectors)\n",
    "print(\"done in %0.3fs\" % (time() - t0))\n",
    "print(\"accuracy:\",accuracy_score(preds,test_sln))\n"
   ]
  },
  {
   "cell_type": "code",
   "execution_count": 8,
   "metadata": {},
   "outputs": [],
   "source": [
    "#Transforming the data with PCA, n = 100\n",
    "\n",
    "pca = decomposition.PCA(n_components=100, whiten=True)\n",
    "pca.fit(train_data_vectors)\n",
    "\n",
    "train_data_pca = pca.transform(train_data_vectors)\n",
    "test_data_pca = pca.transform(test_data_vectors)"
   ]
  },
  {
   "cell_type": "code",
   "execution_count": 9,
   "metadata": {},
   "outputs": [
    {
     "name": "stdout",
     "output_type": "stream",
     "text": [
      "done in 0.053s\n",
      "accuracy: 0.915\n"
     ]
    },
    {
     "name": "stderr",
     "output_type": "stream",
     "text": [
      "/opt/anaconda3/lib/python3.6/site-packages/sklearn/svm/base.py:193: FutureWarning: The default value of gamma will change from 'auto' to 'scale' in version 0.22 to account better for unscaled features. Set gamma explicitly to 'auto' or 'scale' to avoid this warning.\n",
      "  \"avoid this warning.\", FutureWarning)\n"
     ]
    }
   ],
   "source": [
    "#SVM with PCA\n",
    "\n",
    "\n",
    "svc2 = SVC()\n",
    "t0 = time()\n",
    "svc2.fit(train_data_pca,train_sln)\n",
    "preds = svc2.predict(test_data_pca)\n",
    "print(\"done in %0.3fs\" % (time() - t0))\n",
    "print(\"accuracy:\",accuracy_score(preds,test_sln))"
   ]
  },
  {
   "cell_type": "markdown",
   "metadata": {},
   "source": [
    "# Part IV: Experimenting with Parameters"
   ]
  },
  {
   "cell_type": "code",
   "execution_count": 10,
   "metadata": {},
   "outputs": [
    {
     "name": "stdout",
     "output_type": "stream",
     "text": [
      "done in 0.021s\n",
      "accuracy: 0.915\n"
     ]
    }
   ],
   "source": [
    "#MultinomialNB (naive bayes) \n",
    "\n",
    "mnb = MultinomialNB(alpha=10)\n",
    "t0 = time()\n",
    "mnb.fit(train_data_vectors,train_sln)\n",
    "preds = mnb.predict(test_data_vectors)\n",
    "print(\"done in %0.3fs\" % (time() - t0))\n",
    "print(\"accuracy:\", accuracy_score(preds,test_sln))"
   ]
  },
  {
   "cell_type": "code",
   "execution_count": 11,
   "metadata": {},
   "outputs": [
    {
     "name": "stderr",
     "output_type": "stream",
     "text": [
      "/opt/anaconda3/lib/python3.6/site-packages/sklearn/svm/base.py:193: FutureWarning: The default value of gamma will change from 'auto' to 'scale' in version 0.22 to account better for unscaled features. Set gamma explicitly to 'auto' or 'scale' to avoid this warning.\n",
      "  \"avoid this warning.\", FutureWarning)\n"
     ]
    },
    {
     "name": "stdout",
     "output_type": "stream",
     "text": [
      "done in 0.708s\n",
      "accuracy: 0.915\n"
     ]
    }
   ],
   "source": [
    "#Support Vector Machine\n",
    "\n",
    "svc = SVC(kernel='poly', C=0.01)\n",
    "t0 = time()\n",
    "svc.fit(train_data_vectors,train_sln)\n",
    "preds = svc.predict(test_data_vectors)\n",
    "print(\"done in %0.3fs\" % (time() - t0))\n",
    "print(\"accuracy:\",accuracy_score(preds,test_sln))"
   ]
  },
  {
   "cell_type": "code",
   "execution_count": 12,
   "metadata": {},
   "outputs": [],
   "source": [
    "#Transforming the data with PCA, n = 100\n",
    "\n",
    "pca = decomposition.PCA(n_components=10, whiten=True)\n",
    "pca.fit(train_data_vectors)\n",
    "\n",
    "train_data_pca = pca.transform(train_data_vectors)\n",
    "test_data_pca = pca.transform(test_data_vectors)"
   ]
  },
  {
   "cell_type": "code",
   "execution_count": 13,
   "metadata": {},
   "outputs": [
    {
     "name": "stdout",
     "output_type": "stream",
     "text": [
      "done in 0.004s\n",
      "accuracy: 0.915\n"
     ]
    },
    {
     "name": "stderr",
     "output_type": "stream",
     "text": [
      "/opt/anaconda3/lib/python3.6/site-packages/sklearn/svm/base.py:193: FutureWarning: The default value of gamma will change from 'auto' to 'scale' in version 0.22 to account better for unscaled features. Set gamma explicitly to 'auto' or 'scale' to avoid this warning.\n",
      "  \"avoid this warning.\", FutureWarning)\n"
     ]
    }
   ],
   "source": [
    "#SVM with PCA\n",
    "\n",
    "svc2 = SVC(kernel='poly', C=0.01)\n",
    "t0 = time()\n",
    "svc2.fit(train_data_pca,train_sln)\n",
    "preds = svc2.predict(test_data_pca)\n",
    "print(\"done in %0.3fs\" % (time() - t0))\n",
    "print(\"accuracy:\",accuracy_score(preds,test_sln))"
   ]
  },
  {
   "cell_type": "markdown",
   "metadata": {},
   "source": [
    "# Part V: Scaling Up"
   ]
  },
  {
   "cell_type": "code",
   "execution_count": 14,
   "metadata": {},
   "outputs": [
    {
     "name": "stdout",
     "output_type": "stream",
     "text": [
      "['aaron', 'abandoned', 'abbi', 'abby', 'abilities', 'ability', 'able', 'abrupt', 'abruptly', 'absence', 'absolute', 'absolutely', 'absorbed', 'absurd', 'abuse', 'abused', 'abusive', 'academy', 'accent', 'accept', 'acceptable', 'acceptance', 'accepted', 'accepting', 'accepts', 'access', 'accident', 'accidentally', 'accomplish', 'accomplished', 'according', 'account', 'accurate', 'accused', 'ache', 'achieve', 'acknowledge', 'across', 'act', 'acted', 'acting', 'action', 'actionpacked', 'actions', 'active', 'actor', 'actors', 'acts', 'actual', 'actually', 'adam', 'adams', 'adaptation', 'add', 'added', 'addict', 'addicted', 'addicting', 'addiction', 'addictive', 'adding', 'addison', 'addition', 'address', 'addressed', 'adds', 'adjust', 'admirable', 'admire', 'admired', 'admit', 'admits', 'admitted', 'admittedly', 'adopted', 'adorable', 'adore', 'adored', 'adrian', 'adrien', 'adult', 'adults', 'advance', 'advanced', 'advantage', 'adventure', 'adventures', 'advice', 'aelin', 'affair', 'affect', 'affected', 'affection', 'affects', 'afraid', 'aftermath', 'afternoon', 'afterwards', 'age', 'agency', 'agenda', 'agent', 'ages', 'ago', 'agree', 'agreed', 'agrees', 'ah', 'ahead', 'aidan', 'aiden', 'air', 'aka', 'al', 'alas', 'alaska', 'albeit', 'alcohol', 'alcoholic', 'alec', 'alert', 'alex', 'alexa', 'alexander', 'alexis', 'alexs', 'alice', 'alien', 'aliens', 'alike', 'alina', 'alive', 'allegiant', 'alley', 'allie', 'allies', 'allison', 'allow', 'allowed', 'allowing', 'allows', 'ally', 'almost', 'alone', 'along', 'alongside', 'alot', 'alpha', 'already', 'alright', 'also', 'altered', 'alternate', 'alternating', 'alternative', 'although', 'altogether', 'always', 'aly', 'amanda', 'amazed', 'amazing', 'amazingly', 'amazon', 'amber', 'america', 'american', 'americans', 'among', 'amongst', 'amount', 'amounts', 'amused', 'amusing', 'amy', 'ana', 'ancient', 'andrew', 'andrews', 'angel', 'angels', 'anger', 'angle', 'angry', 'angst', 'angsty', 'animal', 'animals', 'anita', 'ann', 'anna', 'annas', 'anne', 'annie', 'annoy', 'annoyed', 'annoying', 'annoys', 'another', 'answer', 'answered', 'answers', 'antagonist', 'anthology', 'anticipated', 'anticipating', 'anticipation', 'anticlimactic', 'antihero', 'anxiety', 'anxious', 'anybody', 'anymore', 'anyone', 'anything', 'anytime', 'anyway', 'anyways', 'anywhere', 'apart', 'apartment', 'apocalypse', 'apollo', 'apparent', 'apparently', 'appeal', 'appealing', 'appear', 'appearance', 'appearances', 'appeared', 'appears', 'applaud', 'appreciate', 'appreciated', 'approach', 'appropriate', 'april', 'arc', 'archer', 'arcs', 'area', 'areas', 'arent', 'argue', 'argument', 'arguments', 'ari', 'aria', 'arin', 'arm', 'armentrout', 'arms', 'army', 'around', 'arranged', 'arrive', 'arrived', 'arrives', 'arrogant', 'art', 'arthur', 'artist', 'artists', 'artwork', 'asap', 'ash', 'ashamed', 'asher', 'ashes', 'ashley', 'ashton', 'asian', 'aside', 'ask', 'asked', 'asking', 'asks', 'asleep', 'aspect', 'aspects', 'aspen', 'ass', 'assassin', 'assassins', 'asshole', 'assigned', 'assistant', 'assume', 'assumed', 'assuming', 'assumptions', 'asylum', 'atmosphere', 'attached', 'attack', 'attacked', 'attacks', 'attempt', 'attempted', 'attempting', 'attempts', 'attend', 'attending', 'attention', 'atticus', 'attitude', 'attracted', 'attraction', 'attractive', 'audible', 'audience', 'audio', 'audiobook', 'audrey', 'august', 'augustus', 'aunt', 'aurora', 'austen', 'austin', 'australia', 'authentic', 'author', 'authors', 'autism', 'autistic', 'automatically', 'autumn', 'ava', 'available', 'average', 'avery', 'avoid', 'avoided', 'avoiding', 'awaiting', 'award', 'aware', 'away', 'awe', 'awesome', 'awesomeness', 'awful', 'awhile', 'awkward', 'axel', 'babies', 'baby', 'back', 'backbone', 'backdrop', 'background', 'backstory', 'backwards', 'bad', 'badass', 'badly', 'bag', 'baggage', 'bailey', 'balance', 'balanced', 'ball', 'balls', 'bam', 'band', 'bane', 'bang', 'banks', 'banter', 'bar', 'bardugo', 'bare', 'barely', 'base', 'baseball', 'based', 'basic', 'basically', 'basis', 'bastard', 'bat', 'bathroom', 'batman', 'battle', 'battles', 'bay', 'bdsm', 'bea', 'beach', 'bear', 'beast', 'beat', 'beaten', 'beating', 'beats', 'beau', 'beautiful', 'beautifully', 'beauty', 'became', 'becca', 'beck', 'become', 'becomes', 'becoming', 'bed', 'bedroom', 'beg', 'began', 'begging', 'begin', 'beginning', 'beginnings', 'begins', 'behavior', 'behaviour', 'behind', 'beings', 'belief', 'beliefs', 'believable', 'believe', 'believed', 'believes', 'believing', 'bell', 'bella', 'belly', 'belong', 'belonged', 'belongs', 'beloved', 'ben', 'beneath', 'benefit', 'benefits', 'bennett', 'bens', 'beside', 'besides', 'best', 'bet', 'beth', 'betrayal', 'betrayed', 'better', 'beyond', 'bff', 'bianca', 'big', 'bigger', 'biggest', 'biker', 'bill', 'billionaire', 'billy', 'bird', 'birth', 'birthday', 'bisexual', 'bishop', 'bit', 'bitch', 'bitchy', 'bite', 'biting', 'bits', 'bitter', 'bittersweet', 'bizarre', 'black', 'blah', 'blair', 'blaire', 'blake', 'blame', 'bland', 'bleak', 'blend', 'blew', 'blind', 'bliss', 'block', 'blog', 'blogspot', 'blood', 'bloody', 'blow', 'blown', 'blows', 'blue', 'blurb', 'board', 'boarding', 'boat', 'bodies', 'body', 'bogged', 'bold', 'bomb', 'bond', 'bonds', 'bone', 'bones', 'bonus', 'book', 'books', 'bookstore', 'bookworm', 'boom', 'bored', 'boredom', 'boring', 'born', 'boss', 'bother', 'bothered', 'bothers', 'bottom', 'bought', 'bound', 'boundaries', 'bow', 'box', 'boy', 'boyfriend', 'boyfriends', 'boys', 'brad', 'brady', 'brain', 'brains', 'bran', 'brand', 'brandon', 'brat', 'brave', 'break', 'breaking', 'breaks', 'breath', 'breathe', 'breathing', 'breathless', 'breathtaking', 'bree', 'brian', 'bride', 'bridge', 'brief', 'briefly', 'bright', 'brilliant', 'brilliantly', 'bring', 'bringing', 'brings', 'british', 'broke', 'broken', 'brooding', 'brooke', 'brother', 'brotherhood', 'brothers', 'brought', 'brown', 'brutal', 'brutally', 'btw', 'budding', 'buddy', 'bugged', 'build', 'building', 'builds', 'buildup', 'built', 'bullied', 'bullshit', 'bully', 'bullying', 'bumps', 'bunch', 'buried', 'burn', 'burned', 'burning', 'bus', 'business', 'busy', 'butcher', 'butt', 'butterflies', 'buy', 'buying', 'cade', 'cadence', 'cage', 'caine', 'cake', 'cal', 'caleb', 'california', 'call', 'called', 'callie', 'calling', 'calls', 'calm', 'cam', 'camden', 'came', 'cameron', 'camp', 'cancer', 'candy', 'cannot', 'cant', 'capable', 'capital', 'captain', 'captivated', 'captivating', 'captive', 'capture', 'captured', 'captures', 'car', 'cara', 'card', 'cards', 'care', 'cared', 'career', 'careful', 'carefully', 'cares', 'caring', 'caroline', 'carrie', 'carried', 'carries', 'carry', 'carrying', 'cars', 'carson', 'carter', 'cas', 'case', 'cases', 'casey', 'cash', 'cass', 'cassandra', 'cassie', 'cast', 'castle', 'casual', 'cat', 'catch', 'catches', 'catching', 'category', 'cath', 'catherine', 'cats', 'caught', 'cause', 'caused', 'causes', 'causing', 'celaena', 'celebrity', 'celeste', 'cell', 'center', 'centered', 'centers', 'central', 'century', 'certain', 'certainly', 'challenge', 'challenged', 'challenges', 'champion', 'chance', 'chances', 'change', 'changed', 'changes', 'changing', 'chaol', 'chaos', 'chapter', 'chapters', 'character', 'characterization', 'characters', 'charge', 'charles', 'charley', 'charlie', 'charlies', 'charlotte', 'charm', 'charming', 'charts', 'chase', 'chasing', 'cheap', 'cheated', 'cheating', 'check', 'checked', 'checking', 'cheesy', 'chemistry', 'chess', 'chest', 'chicago', 'chick', 'chicks', 'child', 'childhood', 'childish', 'children', 'childrens', 'chilling', 'china', 'chinese', 'chloe', 'chocolate', 'choice', 'choices', 'choose', 'chooses', 'choosing', 'chose', 'chosen', 'chris', 'christian', 'christie', 'christmas', 'christopher', 'chronicles', 'chunk', 'church', 'cinder', 'cinderella', 'circle', 'circumstances', 'circus', 'cities', 'citizens', 'city', 'civil', 'civilization', 'claim', 'claimed', 'claims', 'claire', 'clan', 'clara', 'clare', 'clary', 'class', 'classes', 'classic', 'classics', 'classmates', 'clay', 'clean', 'clear', 'clearly', 'clever', 'cliche', 'cliched', 'cliches', 'click', 'cliff', 'cliffhanger', 'cliffhangers', 'climax', 'clockwork', 'close', 'closed', 'closely', 'closer', 'closest', 'closet', 'closure', 'clothes', 'club', 'clue', 'clueless', 'clues', 'coach', 'coaster', 'cocky', 'code', 'coffee', 'coincidence', 'cold', 'cole', 'colin', 'collection', 'colleen', 'college', 'collins', 'color', 'colorful', 'colors', 'colt', 'colton', 'com', 'combination', 'combined', 'come', 'comedy', 'comes', 'comfort', 'comfortable', 'comic', 'comics', 'coming', 'comment', 'commentary', 'comments', 'commit', 'commitment', 'committed', 'common', 'communicate', 'communication', 'community', 'companion', 'company', 'compare', 'compared', 'comparing', 'comparison', 'compassion', 'compassionate', 'compelled', 'compelling', 'competition', 'complain', 'complaining', 'complaint', 'complaints', 'complete', 'completed', 'completely', 'complex', 'complexity', 'complicated', 'computer', 'con', 'concept', 'concepts', 'concern', 'concerned', 'concerns', 'conclusion', 'condition', 'conditions', 'confess', 'confession', 'confidence', 'confident', 'conflict', 'conflicted', 'conflicts', 'confused', 'confusing', 'confusion', 'connect', 'connected', 'connecting', 'connection', 'connections', 'connor', 'consent', 'consequences', 'consider', 'considered', 'considering', 'consistent', 'consistently', 'conspiracy', 'constant', 'constantly', 'constructed', 'consumed', 'consuming', 'contact', 'contain', 'contained', 'contains', 'contemporary', 'content', 'context', 'continually', 'continuation', 'continue', 'continued', 'continues', 'continuing', 'contract', 'contrast', 'contrived', 'control', 'controlled', 'controlling', 'convenient', 'conversation', 'conversations', 'convey', 'convince', 'convinced', 'convincing', 'convoluted', 'cook', 'cookie', 'cool', 'cooper', 'cop', 'cope', 'cops', 'copy', 'cora', 'core', 'corner', 'correct', 'correctly', 'cost', 'cough', 'could', 'couldnt', 'couldve', 'council', 'count', 'counting', 'countless', 'countries', 'country', 'couple', 'couples', 'courage', 'course', 'court', 'courtesy', 'cousin', 'cousins', 'cover', 'covered', 'covers', 'crack', 'crafted', 'crap', 'crappy', 'crash', 'craving', 'craziness', 'crazy', 'create', 'created', 'creates', 'creating', 'creation', 'creative', 'creature', 'creatures', 'credit', 'creepy', 'cress', 'crew', 'cried', 'crime', 'crimes', 'criminal', 'criminals', 'cringe', 'crisis', 'critical', 'criticism', 'cross', 'crossed', 'crossing', 'crowd', 'crown', 'crows', 'crucial', 'cruel', 'crush', 'crushed', 'cry', 'crying', 'cult', 'cultural', 'culture', 'cultures', 'cunning', 'cup', 'cure', 'curiosity', 'curious', 'current', 'currently', 'curse', 'cursed', 'cut', 'cute', 'cutting', 'cycle', 'dad', 'daddy', 'dads', 'daemon', 'dahlia', 'daily', 'daisy', 'dallas', 'damage', 'damaged', 'damen', 'damien', 'damn', 'damned', 'damon', 'dan', 'dance', 'dancing', 'danger', 'dangerous', 'dani', 'daniel', 'daniels', 'danny', 'dante', 'darcy', 'dare', 'dark', 'darker', 'darkest', 'darkling', 'darkness', 'darn', 'dash', 'date', 'dated', 'dates', 'dating', 'daughter', 'daughters', 'david', 'dawn', 'dawson', 'day', 'daye', 'days', 'dc', 'de', 'dead', 'deadly', 'deal', 'dealing', 'deals', 'dealt', 'dean', 'dear', 'death', 'deaths', 'debt', 'debut', 'decade', 'decades', 'december', 'decent', 'decide', 'decided', 'decides', 'deciding', 'decision', 'decisions', 'dedicated', 'dee', 'deep', 'deeper', 'deeply', 'defeat', 'defend', 'defense', 'define', 'defined', 'definite', 'definitely', 'definition', 'degree', 'delicate', 'delicious', 'deliciously', 'delight', 'delightful', 'delirium', 'deliver', 'delivered', 'delivers', 'delve', 'demands', 'demon', 'demons', 'denial', 'dense', 'denver', 'deny', 'department', 'depending', 'depiction', 'depressed', 'depressing', 'depression', 'depth', 'derek', 'describe', 'described', 'describes', 'describing', 'description', 'descriptions', 'descriptive', 'desert', 'deserve', 'deserved', 'deserves', 'design', 'desire', 'desired', 'desires', 'despair', 'desperate', 'desperately', 'despite', 'dessen', 'destined', 'destiny', 'destroy', 'destroyed', 'destroying', 'destruction', 'detached', 'detail', 'detailed', 'details', 'detective', 'determination', 'determine', 'determined', 'devastated', 'devastating', 'develop', 'developed', 'developing', 'development', 'developments', 'develops', 'device', 'devices', 'devil', 'devoted', 'devotion', 'devour', 'devoured', 'dex', 'dialog', 'dialogue', 'diana', 'diary', 'dick', 'didnt', 'die', 'died', 'dies', 'difference', 'differences', 'different', 'differently', 'difficult', 'difficulty', 'dig', 'dilemma', 'dimension', 'dimensional', 'dimitri', 'dinner', 'direct', 'direction', 'directions', 'directly', 'dirty', 'disability', 'disagree', 'disappear', 'disappearance', 'disappeared', 'disappears', 'disappoint', 'disappointed', 'disappointing', 'disappointment', 'disaster', 'disbelief', 'discover', 'discovered', 'discovering', 'discovers', 'discovery', 'discuss', 'discussed', 'discussing', 'discussion', 'disease', 'disgusting', 'disjointed', 'dislike', 'disliked', 'disney', 'disorder', 'distance', 'distant', 'distinct', 'distracted', 'distracting', 'distraction', 'distress', 'disturbing', 'dive', 'divergent', 'diverse', 'diversity', 'divorce', 'divorced', 'dnf', 'doctor', 'doctors', 'doesnt', 'dog', 'dogs', 'dom', 'domestic', 'dominant', 'done', 'dont', 'doomed', 'door', 'doors', 'dorian', 'dose', 'double', 'doubt', 'doubts', 'douche', 'douglas', 'downhill', 'downright', 'downs', 'dozen', 'dr', 'drag', 'dragged', 'dragging', 'dragon', 'dragons', 'drake', 'drama', 'dramatic', 'draw', 'drawing', 'drawn', 'draws', 'dream', 'dreamed', 'dreams', 'dreamy', 'dresden', 'dress', 'dressed', 'dresses', 'drew', 'drink', 'drinking', 'drive', 'driven', 'drives', 'driving', 'drop', 'dropped', 'dropping', 'drops', 'drove', 'drowning', 'drug', 'drugs', 'drunk', 'dry', 'dual', 'dude', 'due', 'duh', 'duke', 'dull', 'dumb', 'dunno', 'duo', 'duology', 'dust', 'duty', 'dying', 'dylan', 'dynamic', 'dynamics', 'dysfunctional', 'dystopia', 'dystopian', 'eager', 'eagerly', 'ear', 'earc', 'earlier', 'early', 'earn', 'earned', 'earth', 'ease', 'easier', 'easily', 'east', 'easy', 'eat', 'eating', 'ebook', 'echo', 'ed', 'eddie', 'edelweiss', 'eden', 'edge', 'edit', 'edited', 'editing', 'edition', 'editor', 'education', 'edward', 'effect', 'effective', 'effects', 'effort', 'efforts', 'eh', 'eight', 'eighteen', 'either', 'elaborate', 'elder', 'eleanor', 'element', 'elements', 'elena', 'eleven', 'eli', 'elias', 'elite', 'elizabeth', 'ella', 'elle', 'ellie', 'elliot', 'else', 'elses', 'em', 'email', 'emails', 'embarrassed', 'embarrassing', 'ember', 'embrace', 'emerson', 'emily', 'emma', 'emmas', 'emotion', 'emotional', 'emotionally', 'emotions', 'empathize', 'empathy', 'emperor', 'emphasis', 'empire', 'empty', 'encounter', 'encountered', 'encounters', 'encourage', 'end', 'endearing', 'ended', 'enders', 'ending', 'endings', 'endless', 'ends', 'endure', 'enemies', 'enemy', 'energy', 'engage', 'engaged', 'engaging', 'england', 'english', 'engrossed', 'engrossing', 'enjoy', 'enjoyable', 'enjoyed', 'enjoying', 'enjoyment', 'enjoys', 'enough', 'ensure', 'enter', 'entered', 'enters', 'entertained', 'entertaining', 'entertainment', 'enthralled', 'enthralling', 'entire', 'entirely', 'entries', 'entry', 'environment', 'epic', 'epilogue', 'episode', 'episodes', 'equal', 'equally', 'era', 'eric', 'erin', 'erotic', 'erotica', 'error', 'errors', 'escape', 'escaped', 'escapes', 'escaping', 'especially', 'essence', 'essential', 'essentially', 'established', 'estate', 'etc', 'ethan', 'ethans', 'europe', 'eva', 'evan', 'evans', 'eve', 'even', 'evening', 'event', 'events', 'eventually', 'ever', 'every', 'everybody', 'everyday', 'everyone', 'everyones', 'everything', 'everywhere', 'evidence', 'evie', 'evil', 'evolution', 'evolved', 'ex', 'exact', 'exactly', 'example', 'examples', 'exboyfriend', 'excellent', 'except', 'exception', 'exceptional', 'excessive', 'exchange', 'excited', 'excitement', 'exciting', 'excuse', 'excuses', 'executed', 'execution', 'exist', 'existed', 'existence', 'existing', 'exists', 'expanded', 'expect', 'expectation', 'expectations', 'expected', 'expecting', 'expects', 'experience', 'experienced', 'experiences', 'experiencing', 'experiment', 'explain', 'explained', 'explaining', 'explains', 'explanation', 'explanations', 'explicit', 'exploration', 'explore', 'explored', 'explores', 'exploring', 'explosive', 'exposed', 'exposition', 'express', 'expression', 'extended', 'extent', 'extra', 'extraordinary', 'extreme', 'extremely', 'eye', 'eyes', 'fable', 'fables', 'fabulous', 'face', 'facebook', 'faced', 'faces', 'facing', 'fact', 'factions', 'factor', 'facts', 'fade', 'fae', 'faeries', 'fail', 'failed', 'failing', 'fails', 'failure', 'faint', 'fair', 'fairly', 'fairy', 'fairytale', 'faith', 'fake', 'fall', 'fallen', 'falling', 'fallon', 'falls', 'false', 'fame', 'familiar', 'families', 'family', 'familys', 'famous', 'fan', 'fancy', 'fandom', 'fanfiction', 'fangirl', 'fans', 'fantasies', 'fantastic', 'fantastical', 'fantasy', 'far', 'farfetched', 'farm', 'fascinated', 'fascinating', 'fashion', 'fast', 'faster', 'fastpaced', 'fat', 'fate', 'father', 'fathers', 'fault', 'faults', 'favor', 'favorite', 'favorites', 'favourite', 'favourites', 'fbi', 'fear', 'feared', 'fears', 'feature', 'featured', 'features', 'featuring', 'fed', 'feed', 'feel', 'feeling', 'feelings', 'feels', 'feet', 'feisty', 'fell', 'fellow', 'felt', 'female', 'females', 'feminist', 'fence', 'fey', 'feyre', 'fiance', 'fiction', 'fictional', 'field', 'fierce', 'fiery', 'fifteen', 'fifth', 'fifty', 'fight', 'fighter', 'fighting', 'fights', 'figure', 'figured', 'figures', 'figuring', 'files', 'fill', 'filled', 'filler', 'film', 'final', 'finale', 'finally', 'find', 'finding', 'finds', 'fine', 'finger', 'fingers', 'finish', 'finished', 'finishing', 'finn', 'fiona', 'fire', 'firm', 'firmly', 'first', 'firstly', 'fish', 'fit', 'fits', 'fitting', 'five', 'fix', 'fixed', 'flash', 'flashback', 'flashbacks', 'flat', 'flaw', 'flawed', 'flawless', 'flaws', 'flesh', 'fleshed', 'flew', 'flight', 'flip', 'flipping', 'flirting', 'floor', 'flow', 'flowed', 'flowers', 'flows', 'fluff', 'fluffy', 'fly', 'flying', 'flynn', 'focus', 'focused', 'focuses', 'focusing', 'folks', 'follow', 'followed', 'following', 'follows', 'fond', 'food', 'fool', 'foot', 'football', 'forbidden', 'force', 'forced', 'forces', 'forcing', 'ford', 'foreign', 'foreshadowing', 'forest', 'forever', 'forget', 'forgettable', 'forgetting', 'forgive', 'forgiveness', 'forgot', 'forgotten', 'form', 'format', 'formed', 'former', 'forms', 'formula', 'forth', 'fortunately', 'fortune', 'forward', 'foster', 'fought', 'found', 'foundation', 'four', 'fourchicksflippingpages', 'fourth', 'fox', 'fragile', 'frame', 'france', 'frank', 'frankie', 'frankly', 'freak', 'freakin', 'freaking', 'fred', 'free', 'freedom', 'french', 'frequent', 'frequently', 'fresh', 'friend', 'friendly', 'friends', 'friendship', 'friendships', 'frightening', 'front', 'frost', 'frustrated', 'frustrating', 'frustration', 'fuck', 'fucked', 'fucking', 'full', 'fully', 'fun', 'funeral', 'funny', 'fury', 'future', 'futuristic', 'fuzzy', 'gabe', 'gabriel', 'gage', 'gah', 'gaiman', 'gain', 'game', 'games', 'gang', 'gap', 'garden', 'garrett', 'gave', 'gavin', 'gay', 'geek', 'geeky', 'gem', 'gemma', 'gender', 'general', 'generally', 'generation', 'generations', 'generous', 'generously', 'genius', 'genre', 'genres', 'gentle', 'gentleman', 'genuine', 'genuinely', 'george', 'georgia', 'georgie', 'german', 'germany', 'get', 'gets', 'getting', 'ghost', 'ghosts', 'giant', 'gideon', 'gift', 'gifted', 'gifts', 'ginger', 'girl', 'girlfriend', 'girls', 'give', 'giveaway', 'given', 'gives', 'giving', 'glad', 'glass', 'glimpse', 'glimpses', 'glines', 'glorious', 'glory', 'glossed', 'glued', 'go', 'goal', 'goals', 'god', 'goddess', 'gods', 'goes', 'going', 'gold', 'golden', 'gone', 'gonna', 'good', 'goodbye', 'goodness', 'goodreads', 'gore', 'gorgeous', 'gory', 'gosh', 'gossip', 'got', 'gothic', 'gotta', 'gotten', 'government', 'gr', 'grab', 'grabbed', 'grace', 'graces', 'grade', 'gradually', 'graham', 'grammar', 'grand', 'grandfather', 'grandma', 'grandmother', 'grant', 'granted', 'graphic', 'grasp', 'grateful', 'grave', 'gray', 'grayson', 'great', 'greater', 'greatest', 'greatly', 'greek', 'green', 'greg', 'gretchen', 'grew', 'grey', 'grief', 'griffin', 'grim', 'grip', 'gripe', 'gripped', 'gripping', 'grisha', 'gritty', 'gross', 'ground', 'grounded', 'group', 'groups', 'grow', 'growing', 'grown', 'grows', 'growth', 'gruesome', 'guard', 'guardian', 'guess', 'guessed', 'guessing', 'guide', 'guilt', 'guilty', 'gun', 'guns', 'gus', 'gut', 'guts', 'guy', 'guys', 'gwen', 'ha', 'habit', 'hades', 'hadley', 'hadnt', 'haha', 'hair', 'hale', 'haley', 'half', 'halfway', 'hall', 'halle', 'halloween', 'hamilton', 'han', 'hand', 'handed', 'handful', 'handle', 'handled', 'handles', 'hands', 'handsome', 'hang', 'hanger', 'hanging', 'hangover', 'hanna', 'hannah', 'happen', 'happened', 'happening', 'happens', 'happier', 'happily', 'happiness', 'happy', 'hard', 'harder', 'hardest', 'hardly', 'harlow', 'harm', 'harper', 'harrison', 'harry', 'harrys', 'harsh', 'hart', 'hasnt', 'hat', 'hate', 'hated', 'hates', 'hating', 'hatred', 'haunted', 'haunting', 'havent', 'hayden', 'hazel', 'hea', 'head', 'headed', 'heading', 'heads', 'heal', 'healing', 'health', 'healthy', 'hear', 'heard', 'hearing', 'heart', 'heartache', 'heartbreak', 'heartbreaking', 'heartbroken', 'heartfelt', 'heartless', 'hearts', 'heartwarming', 'heartwrenching', 'heat', 'heather', 'heaven', 'heavily', 'heavy', 'heck', 'hed', 'heels', 'heir', 'heist', 'held', 'helen', 'hell', 'hello', 'help', 'helped', 'helpful', 'helping', 'helpless', 'helps', 'hence', 'henry', 'heres', 'hero', 'heroes', 'heroine', 'heroines', 'hes', 'hesitant', 'hey', 'hidden', 'hide', 'hides', 'hiding', 'high', 'higher', 'highlight', 'highlighted', 'highly', 'hilarious', 'hill', 'hint', 'hinted', 'hints', 'hired', 'historical', 'history', 'hit', 'hits', 'hitting', 'hmm', 'hmmm', 'hockey', 'hold', 'holden', 'holder', 'holding', 'holds', 'hole', 'holes', 'holiday', 'holly', 'hollywood', 'holmes', 'holy', 'home', 'homeless', 'hometown', 'honest', 'honestly', 'honesty', 'honor', 'hood', 'hook', 'hooked', 'hoover', 'hope', 'hoped', 'hopeful', 'hopefully', 'hopeless', 'hopes', 'hoping', 'horrible', 'horribly', 'horrific', 'horrifying', 'horror', 'horrors', 'horse', 'horses', 'hospital', 'host', 'hostage', 'hot', 'hotel', 'hour', 'hours', 'house', 'houses', 'however', 'http', 'https', 'hug', 'huge', 'hugely', 'huh', 'human', 'humanity', 'humans', 'humor', 'humorous', 'humour', 'hundred', 'hundreds', 'hung', 'hunger', 'hungry', 'hunt', 'hunter', 'hunters', 'hunting', 'hurry', 'hurt', 'hurting', 'hurts', 'husband', 'husbands', 'hush', 'hype', 'ian', 'ice', 'id', 'idea', 'ideal', 'ideas', 'identify', 'identity', 'idiot', 'idk', 'ignorance', 'ignorant', 'ignore', 'ignored', 'ignoring', 'ii', 'ill', 'illegal', 'illness', 'illustrations', 'im', 'image', 'imagery', 'images', 'imagination', 'imaginative', 'imagine', 'imagined', 'imagining', 'immature', 'immediate', 'immediately', 'immensely', 'immersed', 'immortal', 'imo', 'impact', 'imperfect', 'importance', 'important', 'importantly', 'impossible', 'impressed', 'impression', 'impressive', 'improve', 'improved', 'improvement', 'inability', 'inappropriate', 'incident', 'include', 'included', 'includes', 'including', 'inclusion', 'inconsistent', 'increasingly', 'incredible', 'incredibly', 'indeed', 'independent', 'indian', 'individual', 'individuals', 'industry', 'inevitable', 'infinite', 'influence', 'info', 'information', 'infuriating', 'initial', 'initially', 'injured', 'injury', 'ink', 'inner', 'innocence', 'innocent', 'insane', 'insanely', 'insecure', 'insecurities', 'insert', 'inside', 'insight', 'inspiration', 'inspired', 'inspiring', 'installment', 'installments', 'instalove', 'instance', 'instances', 'instant', 'instantly', 'instead', 'instincts', 'instruments', 'intelligence', 'intelligent', 'intended', 'intense', 'intensity', 'intent', 'intention', 'intentions', 'interact', 'interaction', 'interactions', 'interest', 'interested', 'interesting', 'interests', 'internal', 'internet', 'intertwined', 'interview', 'intimacy', 'intimate', 'intricate', 'intrigue', 'intrigued', 'intriguing', 'introduce', 'introduced', 'introduces', 'introducing', 'introduction', 'invested', 'investigate', 'investigation', 'invisible', 'involve', 'involved', 'involves', 'involving', 'irish', 'irked', 'iron', 'irresistible', 'irritated', 'irritating', 'isaac', 'isabel', 'isaiah', 'isla', 'island', 'isnt', 'isolated', 'issue', 'issues', 'italian', 'itd', 'itll', 'ive', 'ivy', 'izzy', 'jace', 'jack', 'jacks', 'jackson', 'jacob', 'jade', 'jaded', 'jail', 'jaime', 'jake', 'james', 'jamie', 'jane', 'janie', 'january', 'japanese', 'jared', 'jarring', 'jase', 'jason', 'jasper', 'javier', 'jaw', 'jax', 'jay', 'jazz', 'jealous', 'jealousy', 'jean', 'jeff', 'jem', 'jennifer', 'jenny', 'jeremy', 'jerk', 'jess', 'jesse', 'jessica', 'jesus', 'jill', 'jim', 'jimmy', 'jla', 'jo', 'job', 'jobs', 'jock', 'joe', 'john', 'johns', 'join', 'joined', 'joke', 'joker', 'jokes', 'jon', 'jonah', 'jonathan', 'jones', 'jordan', 'jory', 'josh', 'josie', 'journal', 'journey', 'joy', 'jude', 'judge', 'judgement', 'jules', 'julia', 'julian', 'julie', 'juliet', 'juliette', 'july', 'jump', 'jumped', 'jumping', 'jumps', 'june', 'junior', 'justice', 'justify', 'justin', 'juvenile', 'ka', 'kacey', 'kai', 'kane', 'karina', 'karou', 'kat', 'kate', 'kates', 'katherine', 'katie', 'katniss', 'katy', 'kayden', 'keen', 'keep', 'keeper', 'keeping', 'keeps', 'kell', 'kellan', 'kelly', 'kelsey', 'kennedy', 'kept', 'kestrel', 'kevin', 'key', 'kick', 'kickass', 'kicked', 'kicking', 'kicks', 'kid', 'kidding', 'kidnapped', 'kidnapping', 'kids', 'kiera', 'kill', 'killed', 'killer', 'killers', 'killing', 'kills', 'kim', 'kind', 'kinda', 'kindle', 'kindly', 'kindness', 'kinds', 'king', 'kingdom', 'kingdoms', 'kings', 'kinky', 'kira', 'kiss', 'kissed', 'kisses', 'kissing', 'kitchen', 'kitty', 'knew', 'knife', 'knight', 'knock', 'knocked', 'know', 'knowing', 'knowledge', 'known', 'knows', 'kristen', 'kudos', 'kyle', 'kylie', 'la', 'label', 'lack', 'lacked', 'lacking', 'lacks', 'ladies', 'lady', 'laid', 'lake', 'lame', 'land', 'landon', 'lands', 'lane', 'language', 'lara', 'large', 'largely', 'larger', 'last', 'lastly', 'late', 'lately', 'later', 'latest', 'latter', 'laugh', 'laughed', 'laughing', 'laughs', 'laughter', 'laura', 'lauren', 'laurent', 'law', 'lawyer', 'lay', 'layer', 'layered', 'layers', 'layla', 'lazy', 'lead', 'leader', 'leading', 'leads', 'league', 'leah', 'learn', 'learned', 'learning', 'learns', 'least', 'leave', 'leaves', 'leaving', 'led', 'lee', 'left', 'leg', 'legacy', 'legal', 'legend', 'legends', 'legs', 'leigh', 'lena', 'length', 'leo', 'less', 'lesson', 'lessons', 'let', 'lets', 'letter', 'letters', 'letting', 'levana', 'level', 'levels', 'levi', 'lewis', 'lex', 'lexi', 'lia', 'liam', 'librarian', 'library', 'lie', 'lies', 'life', 'lifestyle', 'lifetime', 'light', 'lighter', 'lighthearted', 'lights', 'likable', 'like', 'likeable', 'liked', 'likely', 'likes', 'liking', 'lila', 'lily', 'limit', 'limited', 'limits', 'lincoln', 'line', 'lines', 'link', 'linked', 'lips', 'lisa', 'lissa', 'list', 'listen', 'listened', 'listening', 'lists', 'lit', 'literally', 'literary', 'literature', 'little', 'liv', 'live', 'lived', 'lives', 'living', 'liz', 'lo', 'loads', 'local', 'location', 'locations', 'locked', 'logan', 'logans', 'logic', 'logical', 'lol', 'lola', 'london', 'loneliness', 'lonely', 'long', 'longer', 'longing', 'look', 'looked', 'looking', 'looks', 'loop', 'loose', 'lord', 'lore', 'lose', 'loses', 'losing', 'loss', 'lost', 'lot', 'lots', 'lou', 'loud', 'lovable', 'love', 'loveable', 'loved', 'lovely', 'lover', 'lovers', 'loves', 'loving', 'low', 'lower', 'loyal', 'loyalty', 'lucas', 'luck', 'luckily', 'lucky', 'lucy', 'luke', 'lunar', 'lust', 'lying', 'lyrical', 'maas', 'mac', 'machine', 'mad', 'maddie', 'maddox', 'maddy', 'made', 'madison', 'madly', 'madness', 'mafia', 'mage', 'maggie', 'magic', 'magical', 'magically', 'magician', 'magicians', 'magnificent', 'magnus', 'main', 'mainly', 'maintain', 'major', 'majority', 'make', 'makes', 'makeup', 'making', 'mal', 'male', 'males', 'man', 'manage', 'managed', 'manages', 'manga', 'manipulative', 'manner', 'mans', 'manwhore', 'many', 'map', 'mara', 'march', 'marco', 'marcus', 'mare', 'margo', 'marie', 'marissa', 'mark', 'marked', 'market', 'marks', 'marriage', 'married', 'marry', 'marrying', 'mars', 'martin', 'marvel', 'marvelous', 'mary', 'mask', 'mason', 'massive', 'master', 'masterfully', 'masterpiece', 'match', 'matched', 'mate', 'material', 'mates', 'math', 'matt', 'matter', 'matters', 'matthew', 'mature', 'maturity', 'max', 'maxon', 'may', 'maya', 'maybe', 'maze', 'mc', 'mcs', 'mead', 'mean', 'meaning', 'meaningful', 'means', 'meant', 'meanwhile', 'measure', 'meat', 'media', 'medical', 'mediocre', 'medium', 'meet', 'meeting', 'meets', 'meg', 'megan', 'meghan', 'meh', 'mel', 'melanie', 'melissa', 'melodramatic', 'melt', 'melted', 'member', 'members', 'memoir', 'memorable', 'memories', 'memory', 'men', 'menage', 'mental', 'mentally', 'mention', 'mentioned', 'mentioning', 'mentions', 'mercy', 'mere', 'merely', 'merit', 'mess', 'message', 'messages', 'messed', 'messy', 'met', 'metaphor', 'metaphors', 'meyer', 'mia', 'mias', 'michael', 'michaels', 'middle', 'midnight', 'midst', 'might', 'mike', 'mild', 'mildly', 'mile', 'miles', 'military', 'miller', 'million', 'mind', 'minds', 'mine', 'minor', 'minority', 'minus', 'minute', 'minutes', 'mirror', 'miscommunication', 'miserable', 'misery', 'miss', 'missed', 'missing', 'mission', 'mistake', 'mistakes', 'mistborn', 'misunderstanding', 'misunderstandings', 'mitch', 'mix', 'mixed', 'mixture', 'mm', 'mob', 'model', 'modern', 'molly', 'mom', 'moment', 'moments', 'moms', 'money', 'monica', 'monologue', 'monster', 'monsters', 'month', 'months', 'mood', 'moody', 'moon', 'moore', 'moral', 'morality', 'morals', 'morgan', 'morning', 'mortal', 'mostly', 'mother', 'mothers', 'motion', 'motivation', 'motivations', 'motives', 'motorcycle', 'mountain', 'mouth', 'move', 'moved', 'movement', 'moves', 'movie', 'movies', 'moving', 'mr', 'mrs', 'ms', 'much', 'multiple', 'mum', 'mundane', 'murder', 'murdered', 'murderer', 'murders', 'murphy', 'music', 'musical', 'musician', 'must', 'mustread', 'mutual', 'mysteries', 'mysterious', 'mystery', 'myth', 'mythology', 'myths', 'na', 'nails', 'naive', 'naked', 'name', 'named', 'names', 'nan', 'narrated', 'narration', 'narrative', 'narratives', 'narrator', 'narrators', 'nash', 'nasty', 'natalie', 'natasha', 'nate', 'nathan', 'native', 'natural', 'naturally', 'nature', 'naughty', 'nd', 'neal', 'near', 'nearly', 'neat', 'neatly', 'necessarily', 'necessary', 'neck', 'need', 'needed', 'needing', 'needless', 'needs', 'negative', 'negatives', 'neighbor', 'neighbors', 'neil', 'neither', 'nell', 'nerd', 'nerdy', 'nerves', 'nervous', 'netgalley', 'never', 'nevertheless', 'new', 'newest', 'newly', 'news', 'next', 'nice', 'nicely', 'nicholas', 'nick', 'nicks', 'nico', 'nicole', 'night', 'nightmare', 'nightmares', 'nights', 'nikki', 'nina', 'nine', 'nix', 'noah', 'noahs', 'noble', 'nobody', 'noir', 'nolan', 'none', 'nonetheless', 'nonsense', 'nonstop', 'nope', 'nora', 'norm', 'normal', 'normally', 'north', 'nose', 'note', 'notes', 'nothing', 'notice', 'noticed', 'nova', 'novel', 'novella', 'novellas', 'novels', 'november', 'nowadays', 'nowhere', 'number', 'numbers', 'numerous', 'nurse', 'nuts', 'nyc', 'object', 'objects', 'oblivious', 'obnoxious', 'obsessed', 'obsession', 'obstacles', 'obtained', 'obvious', 'obviously', 'occasional', 'occasionally', 'occur', 'occurred', 'ocd', 'ocean', 'october', 'odd', 'oddly', 'odds', 'offensive', 'offer', 'offered', 'offering', 'offers', 'office', 'officer', 'official', 'officially', 'ofpaperandwords', 'often', 'oh', 'ok', 'okay', 'old', 'older', 'oliver', 'olivia', 'omg', 'one', 'ones', 'ongoing', 'online', 'onto', 'open', 'opened', 'opening', 'openly', 'opens', 'opera', 'opinion', 'opinions', 'opportunities', 'opportunity', 'opposed', 'opposite', 'opposites', 'option', 'order', 'ordered', 'ordinary', 'organization', 'origin', 'original', 'originality', 'originally', 'orphan', 'others', 'otherwise', 'outcome', 'outside', 'outstanding', 'overall', 'overcome', 'overdone', 'overlook', 'overly', 'overthetop', 'overwhelmed', 'overwhelming', 'owen', 'owned', 'owner', 'owns', 'oz', 'pace', 'paced', 'pacing', 'pack', 'package', 'packed', 'packs', 'page', 'pages', 'paid', 'paige', 'pain', 'painful', 'painfully', 'paint', 'painted', 'painting', 'paints', 'pair', 'palace', 'palpable', 'pan', 'panic', 'pants', 'paper', 'paperback', 'paragraph', 'paragraphs', 'parallel', 'parallels', 'paranormal', 'parent', 'parents', 'paris', 'park', 'parker', 'part', 'partially', 'particular', 'particularly', 'parties', 'partly', 'partner', 'partners', 'parts', 'party', 'pass', 'passages', 'passed', 'passes', 'passing', 'passion', 'passionate', 'past', 'pasts', 'patch', 'path', 'pathetic', 'paths', 'patience', 'patient', 'patrick', 'pattern', 'paul', 'pause', 'pay', 'paying', 'peace', 'peculiar', 'peeta', 'pen', 'penelope', 'penny', 'penryn', 'people', 'peoples', 'per', 'perception', 'percy', 'perfect', 'perfection', 'perfectly', 'performance', 'perhaps', 'peril', 'period', 'periods', 'perkins', 'perry', 'person', 'persona', 'personal', 'personalities', 'personality', 'personally', 'persons', 'perspective', 'perspectives', 'pet', 'peter', 'petty', 'phenomenal', 'philosophical', 'philosophy', 'phone', 'phrase', 'phrases', 'physical', 'physically', 'pick', 'picked', 'picking', 'picks', 'picky', 'picture', 'pictures', 'piece', 'pieces', 'pierce', 'pile', 'pining', 'piper', 'pirate', 'pirates', 'pissed', 'pity', 'place', 'placed', 'places', 'plague', 'plain', 'plan', 'plane', 'planet', 'planned', 'planning', 'plans', 'plausible', 'play', 'played', 'player', 'players', 'playing', 'plays', 'pleasant', 'pleasantly', 'please', 'pleased', 'pleasure', 'plenty', 'plot', 'plotline', 'plots', 'plotting', 'plus', 'poetic', 'poetry', 'poignant', 'point', 'pointed', 'pointless', 'points', 'poison', 'police', 'political', 'politics', 'pool', 'poor', 'poorly', 'pop', 'popular', 'population', 'porn', 'portion', 'portray', 'portrayal', 'portrayed', 'position', 'positive', 'positives', 'possessive', 'possibilities', 'possibility', 'possible', 'possibly', 'post', 'postapocalyptic', 'posted', 'posts', 'potential', 'potentially', 'potter', 'pov', 'poverty', 'povs', 'power', 'powerful', 'powers', 'practically', 'practice', 'praise', 'pratchett', 'preachy', 'precious', 'predict', 'predictable', 'prefer', 'preferred', 'pregnancy', 'pregnant', 'prejudice', 'premise', 'prepare', 'prepared', 'prequel', 'presence', 'present', 'presented', 'presents', 'president', 'press', 'pressure', 'pretend', 'pretending', 'pretentious', 'pretty', 'prevent', 'previous', 'previously', 'price', 'pride', 'priest', 'primarily', 'prince', 'princes', 'princess', 'print', 'prior', 'prison', 'prisoner', 'private', 'prize', 'probably', 'problem', 'problematic', 'problems', 'process', 'product', 'professional', 'professor', 'profound', 'program', 'progress', 'progressed', 'progresses', 'progression', 'project', 'prologue', 'prominent', 'promise', 'promised', 'promises', 'promising', 'proof', 'proper', 'properly', 'property', 'prophecy', 'prose', 'protagonist', 'protagonists', 'protect', 'protecting', 'protection', 'protective', 'proud', 'prove', 'proved', 'proves', 'provide', 'provided', 'provides', 'providing', 'provoking', 'ps', 'psychic', 'psychological', 'ptsd', 'public', 'publish', 'published', 'publisher', 'publishers', 'publishing', 'puck', 'pull', 'pulled', 'pulling', 'pulls', 'pun', 'punch', 'puppy', 'pure', 'purely', 'purpose', 'pursue', 'push', 'pushed', 'pushes', 'pushing', 'put', 'puts', 'putting', 'puzzle', 'qualities', 'quality', 'quarter', 'queen', 'queens', 'quentin', 'quest', 'question', 'questionable', 'questioning', 'questions', 'quick', 'quickly', 'quiet', 'quietly', 'quinn', 'quirks', 'quirky', 'quit', 'quite', 'quote', 'quotes', 'rabbit', 'race', 'races', 'rachel', 'rachels', 'racing', 'racism', 'racist', 'radar', 'rafe', 'raffe', 'rage', 'rain', 'rainbow', 'raise', 'raised', 'ran', 'ranch', 'random', 'randomly', 'range', 'rant', 'rape', 'raped', 'rapunzel', 'rare', 'rarely', 'rate', 'rated', 'rather', 'rating', 'ratings', 'raven', 'raw', 'ray', 'rd', 'reach', 'reached', 'reaches', 'react', 'reaction', 'reactions', 'read', 'readable', 'reader', 'readers', 'reading', 'reads', 'ready', 'reagan', 'real', 'realise', 'realised', 'realism', 'realistic', 'realistically', 'reality', 'realization', 'realize', 'realized', 'realizes', 'realizing', 'really', 'realm', 'reapers', 'reason', 'reasonable', 'reasoning', 'reasons', 'rebecca', 'rebel', 'rebellion', 'rebels', 'recall', 'received', 'recent', 'recently', 'reckless', 'recognize', 'recommend', 'recommendation', 'recommended', 'recommending', 'record', 'red', 'redeem', 'redeeming', 'redemption', 'reece', 'reed', 'reeling', 'reese', 'reference', 'references', 'referred', 'referring', 'reflection', 'refreshing', 'refuse', 'refused', 'refuses', 'regard', 'regarding', 'regardless', 'regards', 'regret', 'regrets', 'regular', 'reid', 'relatable', 'relate', 'related', 'relationship', 'relationships', 'relatively', 'release', 'released', 'relevant', 'relief', 'relieved', 'religion', 'religious', 'reluctant', 'rely', 'remain', 'remained', 'remaining', 'remains', 'remarkable', 'remember', 'remembered', 'remembering', 'remembers', 'remind', 'reminded', 'reminder', 'reminds', 'reminiscent', 'removed', 'remy', 'ren', 'repeat', 'repeated', 'repeatedly', 'repeating', 'repetition', 'repetitive', 'replaced', 'report', 'representation', 'reputation', 'request', 'required', 'requires', 'reread', 'rereading', 'rescue', 'rescued', 'research', 'researched', 'resist', 'resistance', 'resolution', 'resolve', 'resolved', 'respect', 'respected', 'response', 'responsibility', 'responsible', 'rest', 'restaurant', 'result', 'results', 'retelling', 'retellings', 'return', 'returned', 'returning', 'returns', 'reunion', 'reunited', 'reveal', 'revealed', 'revealing', 'reveals', 'revelation', 'revelations', 'revenge', 'review', 'reviewed', 'reviewer', 'reviewers', 'reviewing', 'reviews', 'revisit', 'revolution', 'revolves', 'reyes', 'reynolds', 'rhys', 'rich', 'richard', 'richelle', 'rick', 'rid', 'ride', 'ridge', 'ridiculous', 'ridiculously', 'riding', 'ridley', 'right', 'rights', 'riley', 'ring', 'rings', 'riordan', 'rip', 'ripped', 'rise', 'rising', 'risk', 'risks', 'rival', 'river', 'riveting', 'road', 'rob', 'robert', 'roberts', 'robin', 'robot', 'rock', 'rocky', 'rogue', 'role', 'roles', 'roll', 'rolled', 'roller', 'rollercoaster', 'rolling', 'roman', 'romance', 'romances', 'romantic', 'rome', 'romeo', 'ronan', 'room', 'roommate', 'root', 'rooting', 'rory', 'rose', 'roses', 'rosie', 'roth', 'rough', 'round', 'rounded', 'row', 'rowan', 'rowell', 'rowling', 'royal', 'ruby', 'rude', 'ruin', 'ruined', 'ruining', 'rule', 'rules', 'run', 'runner', 'running', 'runs', 'rush', 'rushed', 'russian', 'ruth', 'ruthless', 'ryan', 'ryans', 'ryder', 'sabrina', 'sacrifice', 'sacrifices', 'sad', 'sadie', 'sadly', 'sadness', 'safe', 'safety', 'saga', 'said', 'saint', 'sake', 'sale', 'salt', 'sam', 'samantha', 'sams', 'san', 'sanderson', 'sandersons', 'sappy', 'sara', 'sarah', 'sarcasm', 'sarcastic', 'sassy', 'sat', 'satisfied', 'satisfy', 'satisfying', 'savage', 'save', 'saved', 'saves', 'saving', 'saw', 'sawyer', 'say', 'saying', 'says', 'scale', 'scandal', 'scare', 'scared', 'scarlet', 'scarlett', 'scars', 'scary', 'scenario', 'scenarios', 'scene', 'scenes', 'school', 'schools', 'science', 'scientific', 'scientist', 'scifi', 'scorching', 'score', 'scott', 'scream', 'screaming', 'screen', 'screw', 'screwed', 'script', 'sea', 'seamlessly', 'sean', 'search', 'searching', 'season', 'seat', 'seattle', 'sebastian', 'second', 'secondary', 'seconds', 'secret', 'secretly', 'secrets', 'section', 'sections', 'security', 'see', 'seeing', 'seek', 'seeking', 'seeks', 'seem', 'seemed', 'seemingly', 'seems', 'seen', 'sees', 'selection', 'self', 'selfish', 'selfless', 'sell', 'selling', 'send', 'sending', 'sends', 'senior', 'sense', 'senses', 'sensitive', 'sensual', 'sent', 'sentence', 'sentences', 'separate', 'separated', 'september', 'sequel', 'sequels', 'sequence', 'seraphina', 'serial', 'series', 'serious', 'seriously', 'serve', 'served', 'serves', 'service', 'set', 'seth', 'sets', 'setting', 'settings', 'settle', 'settled', 'setup', 'seven', 'seventeen', 'several', 'severe', 'sex', 'sexism', 'sexist', 'sexual', 'sexuality', 'sexually', 'sexy', 'shade', 'shades', 'shadow', 'shadows', 'shake', 'shakespeare', 'shaking', 'shall', 'shallow', 'shame', 'shane', 'shape', 'share', 'shared', 'shares', 'sharing', 'sharp', 'shatter', 'shattered', 'shaw', 'shed', 'sheer', 'shelf', 'shell', 'sheltered', 'shelves', 'sherlock', 'shes', 'shift', 'shifter', 'shifters', 'shifting', 'shifts', 'shine', 'shines', 'shining', 'ship', 'ships', 'shit', 'shitty', 'shock', 'shocked', 'shocking', 'shoes', 'shoot', 'shooting', 'shop', 'short', 'shorter', 'shortly', 'shot', 'shoulder', 'shoulders', 'shouldnt', 'shouldve', 'show', 'showed', 'shower', 'showing', 'shown', 'shows', 'shut', 'shy', 'sibling', 'siblings', 'sick', 'side', 'sides', 'sigh', 'sight', 'sign', 'significant', 'signs', 'silas', 'silence', 'silent', 'silly', 'silver', 'similar', 'similarities', 'simon', 'simple', 'simplistic', 'simply', 'simultaneously', 'sin', 'since', 'sing', 'singer', 'single', 'sink', 'sins', 'sir', 'sister', 'sisters', 'sit', 'site', 'sitting', 'situation', 'situations', 'six', 'sixteen', 'size', 'sizzling', 'skeptical', 'skill', 'skills', 'skim', 'skimmed', 'skimming', 'skin', 'skip', 'skipped', 'skipping', 'sky', 'slammed', 'slang', 'slap', 'slave', 'slavery', 'slaves', 'sleep', 'sleeping', 'sleeps', 'slept', 'slight', 'slightest', 'slightly', 'slip', 'sloane', 'slow', 'slower', 'slowly', 'slump', 'slut', 'smack', 'small', 'smaller', 'smart', 'smell', 'smile', 'smiled', 'smiling', 'smith', 'smitten', 'smoke', 'smoking', 'smooth', 'smoothly', 'snarky', 'snippets', 'snow', 'soap', 'sobbing', 'social', 'socially', 'society', 'sofia', 'soft', 'sold', 'soldier', 'soldiers', 'solely', 'solid', 'solution', 'solve', 'solved', 'solving', 'somebody', 'someday', 'somehow', 'someone', 'someones', 'something', 'sometime', 'sometimes', 'somewhat', 'somewhere', 'son', 'song', 'songs', 'sons', 'soo', 'sookie', 'soon', 'sooner', 'sooo', 'soooo', 'sooooo', 'sophie', 'sorrow', 'sorry', 'sort', 'sorts', 'soul', 'souls', 'sound', 'sounded', 'sounds', 'source', 'south', 'southern', 'space', 'span', 'spanish', 'spare', 'spark', 'sparks', 'speak', 'speaking', 'speaks', 'special', 'species', 'specific', 'specifically', 'spectacular', 'speech', 'speechless', 'speed', 'spell', 'spelling', 'spencer', 'spend', 'spending', 'spends', 'spent', 'spin', 'spinoff', 'spirit', 'spite', 'split', 'spoil', 'spoiled', 'spoiler', 'spoilers', 'spoiling', 'spoke', 'spoken', 'sports', 'spot', 'spots', 'spread', 'spring', 'spy', 'squad', 'st', 'stage', 'stakes', 'stalker', 'stalking', 'stand', 'standalone', 'standard', 'standards', 'standing', 'stands', 'star', 'staring', 'stark', 'stars', 'start', 'started', 'starting', 'starts', 'state', 'stated', 'statement', 'states', 'station', 'status', 'stay', 'stayed', 'staying', 'stays', 'steady', 'steal', 'stealing', 'steam', 'steampunk', 'steamy', 'steel', 'stefan', 'stella', 'stellar', 'step', 'stephanie', 'stephen', 'stepped', 'steps', 'stereotypes', 'stereotypical', 'stick', 'sticking', 'sticks', 'still', 'stole', 'stolen', 'stomach', 'stone', 'stood', 'stop', 'stopped', 'stopping', 'stops', 'store', 'stories', 'storm', 'story', 'storyline', 'storylines', 'storys', 'storyteller', 'storytelling', 'straight', 'straightforward', 'strange', 'strangely', 'stranger', 'strangers', 'street', 'streets', 'strength', 'strengths', 'stress', 'stretch', 'strike', 'strikes', 'string', 'strings', 'strong', 'stronger', 'strongest', 'strongly', 'struck', 'structure', 'struggle', 'struggled', 'struggles', 'struggling', 'stubborn', 'stuck', 'student', 'students', 'study', 'studying', 'stuff', 'stunning', 'stupid', 'style', 'sub', 'subject', 'subjects', 'submissive', 'subplot', 'subplots', 'subsequent', 'substance', 'subtle', 'succeed', 'success', 'successful', 'successfully', 'suck', 'sucked', 'sucker', 'sucks', 'sudden', 'suddenly', 'sue', 'suffer', 'suffered', 'suffering', 'suffers', 'sugar', 'suggest', 'suggested', 'suicide', 'suit', 'suited', 'sum', 'summary', 'summer', 'sun', 'sunshine', 'super', 'superb', 'superficial', 'superhero', 'superior', 'supernatural', 'support', 'supporting', 'supportive', 'suppose', 'supposed', 'supposedly', 'sure', 'surely', 'surface', 'surprise', 'surprised', 'surprises', 'surprising', 'surprisingly', 'surrounded', 'surrounding', 'survival', 'survive', 'survived', 'surviving', 'survivor', 'survivors', 'susan', 'suspect', 'suspected', 'suspects', 'suspend', 'suspense', 'suspenseful', 'suspicious', 'swear', 'swearing', 'sweet', 'sweetest', 'sweetheart', 'sweetness', 'swept', 'switch', 'switched', 'switching', 'swoon', 'swooning', 'swoonworthy', 'sword', 'sydney', 'sympathetic', 'sympathize', 'sympathy', 'syndrome', 'synopsis', 'system', 'table', 'tad', 'take', 'taken', 'takes', 'taking', 'tale', 'talent', 'talented', 'tales', 'talk', 'talked', 'talking', 'talks', 'tall', 'tally', 'tamlin', 'tangible', 'tangled', 'target', 'task', 'taste', 'tastes', 'tate', 'tattoo', 'tattooed', 'tattoos', 'taught', 'taylor', 'tbr', 'tea', 'teach', 'teacher', 'teachers', 'teaches', 'teaching', 'team', 'tear', 'tearing', 'tears', 'teasing', 'tech', 'technically', 'technology', 'tedious', 'teen', 'teenage', 'teenager', 'teenagers', 'teens', 'teeth', 'television', 'tell', 'telling', 'tells', 'temper', 'tempted', 'ten', 'tend', 'tendencies', 'tendency', 'tender', 'tends', 'tense', 'tension', 'term', 'terms', 'terrible', 'terribly', 'terrific', 'terrified', 'terrifying', 'territory', 'terror', 'terry', 'tess', 'tessa', 'test', 'tested', 'testing', 'texas', 'text', 'th', 'thank', 'thankful', 'thankfully', 'thanks', 'thats', 'theme', 'themes', 'theo', 'theories', 'theory', 'therapy', 'therefore', 'theres', 'theyd', 'theyll', 'theyre', 'theyve', 'thick', 'thief', 'thin', 'thing', 'things', 'think', 'thinking', 'thinks', 'third', 'thirds', 'thirteen', 'thirty', 'tho', 'thomas', 'thorns', 'thoroughly', 'though', 'thought', 'thoughtful', 'thoughtprovoking', 'thoughts', 'thousand', 'thousands', 'thread', 'threads', 'threat', 'threatening', 'threats', 'three', 'threw', 'thrill', 'thrilled', 'thriller', 'thrilling', 'throat', 'throne', 'thrones', 'throughout', 'throw', 'throwing', 'thrown', 'throws', 'thrust', 'thup', 'thus', 'tie', 'tied', 'ties', 'tiger', 'tight', 'till', 'tim', 'time', 'timeline', 'times', 'timing', 'tiny', 'tired', 'tissues', 'title', 'titles', 'tobias', 'toby', 'today', 'todays', 'todd', 'toes', 'together', 'told', 'tom', 'tommy', 'tomorrow', 'ton', 'tone', 'tongue', 'tonight', 'tons', 'tony', 'took', 'top', 'topic', 'topics', 'tore', 'toread', 'torn', 'torture', 'tortured', 'total', 'totally', 'touch', 'touched', 'touches', 'touching', 'tough', 'tour', 'toward', 'towards', 'tower', 'town', 'towns', 'trace', 'track', 'tracks', 'trade', 'traditional', 'tragedy', 'tragic', 'trail', 'trailer', 'train', 'trained', 'training', 'traits', 'transformation', 'transition', 'trapped', 'trash', 'trauma', 'traumatic', 'travel', 'traveling', 'travels', 'travis', 'treasure', 'treat', 'treated', 'treatment', 'treats', 'tree', 'trend', 'trent', 'trevor', 'trey', 'trial', 'trials', 'triangle', 'triangles', 'trick', 'tricks', 'tricky', 'tried', 'tries', 'trigger', 'trilogy', 'trip', 'tris', 'tristan', 'trope', 'tropes', 'trouble', 'troubled', 'troubles', 'true', 'truly', 'trust', 'trusted', 'trusting', 'truth', 'truths', 'try', 'trying', 'tucker', 'turmoil', 'turn', 'turned', 'turner', 'turning', 'turns', 'tv', 'twelve', 'twenty', 'twice', 'twilight', 'twin', 'twins', 'twist', 'twisted', 'twists', 'twitter', 'two', 'ty', 'tyler', 'type', 'types', 'typical', 'typically', 'uf', 'ugh', 'ugly', 'uh', 'uk', 'ultimate', 'ultimately', 'um', 'unable', 'unanswered', 'unbelievable', 'unbelievably', 'uncle', 'uncomfortable', 'unconventional', 'undeniable', 'undercover', 'underdeveloped', 'underground', 'underlying', 'underneath', 'understand', 'understandable', 'understanding', 'understands', 'understatement', 'understood', 'underwhelmed', 'unexpected', 'unexpectedly', 'unfair', 'unfinished', 'unfold', 'unfolded', 'unfolds', 'unforgettable', 'unfortunate', 'unfortunately', 'unhappy', 'unique', 'united', 'universe', 'university', 'unknown', 'unless', 'unlikable', 'unlike', 'unlikeable', 'unlikely', 'unnecessary', 'unpredictable', 'unravel', 'unrealistic', 'unreliable', 'unsatisfying', 'unsure', 'unusual', 'upbringing', 'upcoming', 'update', 'upon', 'upper', 'ups', 'upset', 'upside', 'urban', 'urge', 'us', 'use', 'used', 'useless', 'uses', 'using', 'usual', 'usually', 'utter', 'utterly', 'vacation', 'vague', 'valuable', 'value', 'vampire', 'vampires', 'van', 'variety', 'various', 'vast', 'vaughn', 'vegas', 'vengeance', 'veronica', 'version', 'versions', 'versus', 'via', 'vibe', 'vibrant', 'vic', 'vice', 'vicious', 'victim', 'victims', 'victor', 'victoria', 'victorian', 'video', 'view', 'viewpoint', 'views', 'village', 'villain', 'villains', 'vin', 'vincent', 'violence', 'violent', 'violet', 'virgin', 'virginity', 'virus', 'vision', 'visions', 'visit', 'visiting', 'visual', 'vital', 'vivid', 'voice', 'voices', 'volume', 'volumes', 'vs', 'vulnerability', 'vulnerable', 'wade', 'wait', 'waited', 'waiting', 'wake', 'wakes', 'walk', 'walked', 'walker', 'walking', 'walks', 'wall', 'walls', 'wanna', 'want', 'wanted', 'wanting', 'wants', 'war', 'ward', 'warm', 'warming', 'warn', 'warned', 'warner', 'warning', 'warren', 'warrior', 'wars', 'wary', 'wasnt', 'waste', 'wasted', 'watch', 'watched', 'watching', 'water', 'waters', 'wave', 'way', 'ways', 'weak', 'weaker', 'weakness', 'wealth', 'wealthy', 'weapon', 'weapons', 'wear', 'wearing', 'wears', 'weaves', 'web', 'website', 'wed', 'wedding', 'weebly', 'week', 'weekend', 'weeks', 'weight', 'weird', 'welcome', 'well', 'welldeveloped', 'wellwritten', 'went', 'werent', 'werewolf', 'werewolves', 'wes', 'wesley', 'west', 'western', 'wet', 'weve', 'whatever', 'whats', 'whatsoever', 'whenever', 'whereas', 'whether', 'whilst', 'whining', 'whiny', 'whirlwind', 'whispered', 'white', 'whoa', 'whoever', 'whole', 'wholly', 'whore', 'whos', 'whose', 'wicked', 'wide', 'wife', 'wild', 'wilder', 'william', 'williams', 'willing', 'willow', 'wills', 'win', 'wind', 'window', 'wine', 'wings', 'winner', 'winning', 'wins', 'winter', 'winters', 'wise', 'wish', 'wished', 'wishes', 'wishing', 'wit', 'witch', 'witches', 'within', 'without', 'witness', 'witty', 'wizard', 'woke', 'wolf', 'wolves', 'woman', 'womans', 'women', 'womens', 'wonder', 'wondered', 'wonderful', 'wonderfully', 'wondering', 'wonderland', 'wonders', 'wont', 'woods', 'word', 'wordpress', 'words', 'work', 'worked', 'working', 'works', 'world', 'worldbuilding', 'worlds', 'worried', 'worries', 'worry', 'worrying', 'worse', 'worst', 'worth', 'worthwhile', 'worthy', 'would', 'wouldnt', 'wouldve', 'wound', 'woven', 'wow', 'wrap', 'wrapped', 'wrath', 'wreck', 'wren', 'wrenching', 'write', 'writer', 'writers', 'writes', 'writing', 'written', 'wrong', 'wrote', 'wtf', 'wwii', 'www', 'wyatt', 'xander', 'xd', 'ya', 'yay', 'yea', 'yeah', 'year', 'yearold', 'years', 'yelena', 'yelling', 'yep', 'yes', 'yesterday', 'yet', 'york', 'youd', 'youll', 'young', 'younger', 'youre', 'youth', 'youtube', 'youve', 'yummy', 'zach', 'zack', 'zane', 'zero', 'zoe', 'zoey', 'zombie', 'zombies', 'zone']\n"
     ]
    }
   ],
   "source": [
    "data = pandas.read_csv(\"goodreads_reviews50000.csv\") \n",
    "\n",
    "def clean_review(review):\n",
    "    #input is a string review\n",
    "    #return is review cleaned of all punctuation, lowercase, and removed nltk stopwords\n",
    "    letters_only = re.sub(\"[^a-zA-Z]\",\" \",review)\n",
    "    lower_case = letters_only.lower()\n",
    "    words = lower_case.split()\n",
    "    for stop_word in stopwords.words(\"english\"):\n",
    "        while stop_word in words:\n",
    "            words.remove(stop_word)\n",
    "    cleaned = \" \".join(words)\n",
    "    return cleaned\n",
    "\n",
    "data[\"has_spoiler\"] = data['has_spoiler'].replace(to_replace=True, value=1)\n",
    "data[\"has_spoiler\"] = data['has_spoiler'].replace(to_replace=False, value=0)\n",
    "\n",
    "#process the data\n",
    "cleaned_text = []\n",
    "for i in range(len(data)):\n",
    "    cleaned_text.append(clean_review(data[\"review_sentences\"][i]))  \n",
    "\n",
    "#establish training and testing dataset\n",
    "# note that data['rating'] OR data['has_spoiler']\n",
    "train_data, test_data, train_sln, test_sln = \\\n",
    "    train_test_split(cleaned_text, data['has_spoiler'], test_size = 0.2, random_state=0)\n",
    "\n",
    "#Bag of Words with 5000 most common words\n",
    "vectorizer = CountVectorizer(analyzer='word', max_features = 5000)\n",
    "#find the right 5000 words\n",
    "vectorizer.fit(train_data)\n",
    "#let's look at which words it found\n",
    "print(vectorizer.get_feature_names())\n",
    "\n",
    "#use the vectorizer to transform review strings into word count vectors \n",
    "train_data_vectors = vectorizer.transform(train_data).toarray()\n",
    "test_data_vectors = vectorizer.transform(test_data).toarray()\n",
    "\n",
    "\n"
   ]
  },
  {
   "cell_type": "code",
   "execution_count": 15,
   "metadata": {},
   "outputs": [
    {
     "name": "stdout",
     "output_type": "stream",
     "text": [
      "done in 1.320s\n",
      "accuracy: 0.9031\n"
     ]
    }
   ],
   "source": [
    "#MultinomialNB (naive bayes) \n",
    "\n",
    "mnb = MultinomialNB(alpha=10)\n",
    "t0 = time()\n",
    "mnb.fit(train_data_vectors,train_sln)\n",
    "preds = mnb.predict(test_data_vectors)\n",
    "print(\"done in %0.3fs\" % (time() - t0))\n",
    "print(\"accuracy:\", accuracy_score(preds,test_sln))"
   ]
  },
  {
   "cell_type": "code",
   "execution_count": 16,
   "metadata": {},
   "outputs": [],
   "source": [
    "#Transforming the data with PCA, n = 10\n",
    "\n",
    "pca = decomposition.PCA(n_components=10, whiten=True)\n",
    "pca.fit(train_data_vectors)\n",
    "\n",
    "train_data_pca = pca.transform(train_data_vectors)\n",
    "test_data_pca = pca.transform(test_data_vectors)"
   ]
  },
  {
   "cell_type": "code",
   "execution_count": 17,
   "metadata": {},
   "outputs": [
    {
     "name": "stderr",
     "output_type": "stream",
     "text": [
      "/opt/anaconda3/lib/python3.6/site-packages/sklearn/svm/base.py:193: FutureWarning: The default value of gamma will change from 'auto' to 'scale' in version 0.22 to account better for unscaled features. Set gamma explicitly to 'auto' or 'scale' to avoid this warning.\n",
      "  \"avoid this warning.\", FutureWarning)\n"
     ]
    },
    {
     "name": "stdout",
     "output_type": "stream",
     "text": [
      "done in 38.124s\n",
      "accuracy: 0.9364\n"
     ]
    }
   ],
   "source": [
    "#SVM with PCA\n",
    "\n",
    "svc2 = SVC(kernel='poly', C=0.01)\n",
    "t0 = time()\n",
    "svc2.fit(train_data_pca,train_sln)\n",
    "preds = svc2.predict(test_data_pca)\n",
    "print(\"done in %0.3fs\" % (time() - t0))\n",
    "print(\"accuracy:\",accuracy_score(preds,test_sln))"
   ]
  }
 ],
 "metadata": {
  "kernelspec": {
   "display_name": "Python 3",
   "language": "python",
   "name": "python3"
  },
  "language_info": {
   "codemirror_mode": {
    "name": "ipython",
    "version": 3
   },
   "file_extension": ".py",
   "mimetype": "text/x-python",
   "name": "python",
   "nbconvert_exporter": "python",
   "pygments_lexer": "ipython3",
   "version": "3.8.5"
  }
 },
 "nbformat": 4,
 "nbformat_minor": 2
}
